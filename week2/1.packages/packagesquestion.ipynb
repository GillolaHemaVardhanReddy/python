{
 "cells": [
  {
   "cell_type": "markdown",
   "metadata": {},
   "source": [
    "# Module 5: Modules and Packages Assignments\n",
    "## Lesson 5.1: Importing Modules\n",
    "### Assignment 1: Importing and Using Modules\n",
    "\n",
    "Import the `math` module and use it to calculate the square root of 25 and the sine of 90 degrees.\n",
    "\n",
    "### Assignment 2: Aliasing Modules\n",
    "\n",
    "Import the `datetime` module with an alias and use it to print the current date and time.\n",
    "\n",
    "### Assignment 3: Importing Specific Functions\n",
    "\n",
    "Import the `randint` function from the `random` module and use it to generate a random integer between 1 and 100.\n",
    "\n",
    "### Assignment 4: Importing Multiple Functions\n",
    "\n",
    "Import the `sqrt` and `pow` functions from the `math` module and use them to calculate the square root of 16 and 2 raised to the power of 3.\n",
    "\n",
    "### Assignment 5: Handling Import Errors\n",
    "\n",
    "Write code that attempts to import a non-existent module and gracefully handles the import error by printing an error message.\n",
    "\n",
    "## Lesson 5.2: Standard Library Overview\n",
    "### Assignment 6: Working with the `os` Module\n",
    "\n",
    "Use the `os` module to create a new directory, list the contents of the current directory, and remove the newly created directory.\n",
    "\n",
    "### Assignment 7: Working with the `sys` Module\n",
    "\n",
    "Use the `sys` module to print the Python version currently in use and the command-line arguments passed to the script.\n",
    "\n",
    "### Assignment 8: Working with the `math` Module\n",
    "\n",
    "Use the `math` module to calculate the greatest common divisor (GCD) of two numbers and the factorial of a number.\n",
    "\n",
    "### Assignment 9: Working with the `datetime` Module\n",
    "\n",
    "Use the `datetime` module to print the current date, calculate the date 100 days from today, and determine the day of the week for a given date.\n",
    "\n",
    "### Assignment 10: Working with the `random` Module\n",
    "\n",
    "Use the `random` module to generate a list of 5 random numbers between 1 and 50 and shuffle the elements of a list.\n",
    "\n",
    "## Lesson 5.3: Creating and Using Packages\n",
    "### Assignment 11: Creating a Simple Package\n",
    "\n",
    "Create a package named `mypackage` with two modules: `module1` and `module2`. `module1` should contain a function that adds two numbers, and `module2` should contain a function that multiplies two numbers. Write code to use these functions.\n",
    "\n",
    "### Assignment 12: Using `__init__.py`\n",
    "\n",
    "Modify the `mypackage` package to include an `__init__.py` file that imports the functions from `module1` and `module2`. Write code to use these functions.\n",
    "\n",
    "### Assignment 13: Importing from a Package\n",
    "\n",
    "Write code to import and use the functions from `mypackage` without explicitly importing `module1` and `module2`.\n",
    "\n",
    "### Assignment 14: Relative Imports\n",
    "\n",
    "Create a subpackage named `subpackage` within `mypackage` and move `module2` into `subpackage`. Modify the import statements in `__init__.py` to use relative imports. Write code to use the functions from both modules.\n",
    "\n",
    "### Assignment 15: Handling Package Import Errors\n",
    "\n",
    "Write code that attempts to import a non-existent function from `mypackage` and gracefully handles the import error by printing an error message."
   ]
  },
  {
   "cell_type": "markdown",
   "id": "5779d271",
   "metadata": {},
   "source": [
    "### 1: Importing and Using Modules\n",
    "\n",
    "Import the `math` module and use it to calculate the square root of 25 and the sine of 90 degrees.\n"
   ]
  },
  {
   "cell_type": "code",
   "execution_count": 2,
   "metadata": {},
   "outputs": [],
   "source": [
    "from math import sqrt,sin"
   ]
  },
  {
   "cell_type": "code",
   "execution_count": 3,
   "id": "fcf933ed",
   "metadata": {},
   "outputs": [
    {
     "name": "stdout",
     "output_type": "stream",
     "text": [
      "5.0\n"
     ]
    }
   ],
   "source": [
    "print(sqrt(25))"
   ]
  },
  {
   "cell_type": "code",
   "execution_count": 4,
   "id": "65be6c07",
   "metadata": {},
   "outputs": [
    {
     "name": "stdout",
     "output_type": "stream",
     "text": [
      "0.8939966636005579\n"
     ]
    }
   ],
   "source": [
    "print(sin(90))"
   ]
  },
  {
   "cell_type": "markdown",
   "id": "22aff2e9",
   "metadata": {},
   "source": [
    "### 2: Aliasing Modules\n",
    "\n",
    "Import the `datetime` module with an alias and use it to print the current date and time.\n"
   ]
  },
  {
   "cell_type": "code",
   "execution_count": 17,
   "id": "e9d77eb3",
   "metadata": {},
   "outputs": [
    {
     "name": "stdout",
     "output_type": "stream",
     "text": [
      "2025-10-22 10:19:03.431706\n"
     ]
    }
   ],
   "source": [
    "import datetime as dt\n",
    "\n",
    "print(dt.datetime.now())"
   ]
  },
  {
   "cell_type": "markdown",
   "id": "0cfdeec8",
   "metadata": {},
   "source": [
    "### 3: Importing Specific Functions\n",
    "\n",
    "Import the `randint` function from the `random` module and use it to generate a random integer between 1 and 100.\n"
   ]
  },
  {
   "cell_type": "code",
   "execution_count": 18,
   "id": "a6685b98",
   "metadata": {},
   "outputs": [
    {
     "name": "stdout",
     "output_type": "stream",
     "text": [
      "33\n"
     ]
    }
   ],
   "source": [
    "from random import randint\n",
    "print(randint(1,100))"
   ]
  },
  {
   "cell_type": "markdown",
   "id": "73c60840",
   "metadata": {},
   "source": [
    "### 4: Importing Multiple Functions\n",
    "\n",
    "Import the `sqrt` and `pow` functions from the `math` module and use them to calculate the square root of 16 and 2 raised to the power of 3."
   ]
  },
  {
   "cell_type": "code",
   "execution_count": 19,
   "id": "dcc8d369",
   "metadata": {},
   "outputs": [
    {
     "name": "stdout",
     "output_type": "stream",
     "text": [
      "4.0\n",
      "8.0\n"
     ]
    }
   ],
   "source": [
    "from math import sqrt, pow\n",
    "print(sqrt(16))\n",
    "print(pow(2,3))"
   ]
  },
  {
   "cell_type": "markdown",
   "id": "17fe5d26",
   "metadata": {},
   "source": [
    "### 5: Handling Import Errors\n",
    "\n",
    "Write code that attempts to import a non-existent module and gracefully handles the import error by printing an error message.\n"
   ]
  },
  {
   "cell_type": "code",
   "execution_count": 20,
   "id": "22e5581c",
   "metadata": {},
   "outputs": [
    {
     "name": "stdout",
     "output_type": "stream",
     "text": [
      "Error importing module: No module named 'non_existent_module'\n"
     ]
    }
   ],
   "source": [
    "try:\n",
    "    import non_existent_module\n",
    "except ImportError as e:\n",
    "    print(f\"Error importing module: {e}\")"
   ]
  },
  {
   "cell_type": "markdown",
   "id": "f54412a3",
   "metadata": {},
   "source": [
    "### 6: Working with the `os` Module\n",
    "\n",
    "Use the `os` module to create a new directory, list the contents of the current directory, and remove the newly created directory.\n"
   ]
  },
  {
   "cell_type": "code",
   "execution_count": 22,
   "id": "d20b845a",
   "metadata": {},
   "outputs": [],
   "source": [
    "import os \n",
    "os.mkdir('hello')"
   ]
  },
  {
   "cell_type": "code",
   "execution_count": 23,
   "id": "b3239d4b",
   "metadata": {},
   "outputs": [
    {
     "data": {
      "text/plain": [
       "['packagessolution.ipynb', 'packagesquestion.ipynb', 'hello']"
      ]
     },
     "execution_count": 23,
     "metadata": {},
     "output_type": "execute_result"
    }
   ],
   "source": [
    "os.listdir()"
   ]
  },
  {
   "cell_type": "code",
   "execution_count": 24,
   "id": "d6096258",
   "metadata": {},
   "outputs": [],
   "source": [
    "os.rmdir('hello')"
   ]
  },
  {
   "cell_type": "markdown",
   "id": "57ff48cb",
   "metadata": {},
   "source": [
    "\n",
    "### 7: Working with the `sys` Module\n",
    "\n",
    "Use the `sys` module to print the Python version currently in use and the command-line arguments passed to the script.\n"
   ]
  },
  {
   "cell_type": "code",
   "execution_count": null,
   "id": "8b2c1051",
   "metadata": {},
   "outputs": [
    {
     "name": "stdout",
     "output_type": "stream",
     "text": [
      "Python version: 3.10.12 (main, Aug 15 2025, 14:32:43) [GCC 11.4.0]\n",
      "Command-line arguments: /home/sys2233/Desktop/python/pythonPractiveEnv/bin/python\n"
     ]
    }
   ],
   "source": [
    "import sys\n",
    "\n",
    "print(f\"Python version: {sys.version}\")\n",
    "print(f\"Command-line arguments: {sys.argv}\")"
   ]
  },
  {
   "cell_type": "markdown",
   "id": "87a12dcf",
   "metadata": {},
   "source": [
    "### 8: Working with the `math` Module\n",
    "\n",
    "Use the `math` module to calculate the greatest common divisor (GCD) of two numbers and the factorial of a number.\n"
   ]
  },
  {
   "cell_type": "code",
   "execution_count": 27,
   "id": "b70351dc",
   "metadata": {},
   "outputs": [
    {
     "data": {
      "text/plain": [
       "4"
      ]
     },
     "execution_count": 27,
     "metadata": {},
     "output_type": "execute_result"
    }
   ],
   "source": [
    "from math import gcd, factorial\n",
    "gcd(12,8)"
   ]
  },
  {
   "cell_type": "code",
   "execution_count": 28,
   "id": "edab978f",
   "metadata": {},
   "outputs": [
    {
     "data": {
      "text/plain": [
       "24"
      ]
     },
     "execution_count": 28,
     "metadata": {},
     "output_type": "execute_result"
    }
   ],
   "source": [
    "factorial(4)"
   ]
  },
  {
   "cell_type": "markdown",
   "id": "557d9e7a",
   "metadata": {},
   "source": [
    "### 9: Working with the `datetime` Module\n",
    "\n",
    "Use the `datetime` module to print the current date, calculate the date 100 days from today, and determine the day of the week for a given date."
   ]
  },
  {
   "cell_type": "code",
   "execution_count": 33,
   "id": "89ad1443",
   "metadata": {},
   "outputs": [
    {
     "name": "stdout",
     "output_type": "stream",
     "text": [
      "2025-10-22\n",
      "2026-01-30\n",
      "Saturday\n"
     ]
    }
   ],
   "source": [
    "import datetime\n",
    "today = datetime.date.today()\n",
    "print(today)\n",
    "future_date = today + datetime.timedelta(days=100)\n",
    "print(future_date)\n",
    "given_date = datetime.date(2022, 1, 1)\n",
    "print(given_date.strftime('%A'))"
   ]
  },
  {
   "cell_type": "markdown",
   "id": "c220af92",
   "metadata": {},
   "source": [
    "Absolutely! Here's the **cheat sheet in clean Markdown format** ready to copy:\n",
    "\n",
    "````markdown\n",
    "# Python `datetime` Cheat Sheet for ML/AI\n",
    "\n",
    "### 1️⃣ Importing\n",
    "```python\n",
    "import datetime\n",
    "from datetime import date, time, datetime, timedelta\n",
    "````\n",
    "\n",
    "---\n",
    "\n",
    "### 2️⃣ Getting current date/time\n",
    "\n",
    "| Function            | Example                       | Output                       |\n",
    "| ------------------- | ----------------------------- | ---------------------------- |\n",
    "| `date.today()`      | `today = date.today()`        | `2025-10-22`                 |\n",
    "| `datetime.now()`    | `now = datetime.now()`        | `2025-10-22 16:30:12.123456` |\n",
    "| `datetime.utcnow()` | `utc_now = datetime.utcnow()` | UTC time                     |\n",
    "\n",
    "---\n",
    "\n",
    "### 3️⃣ Creating specific date/time\n",
    "\n",
    "```python\n",
    "d = date(2022, 1, 1)               # YYYY, M, D\n",
    "t = time(14, 30, 15)               # H, M, S\n",
    "dt = datetime(2022, 1, 1, 14, 30) # Date + Time\n",
    "```\n",
    "\n",
    "---\n",
    "\n",
    "### 4️⃣ Formatting dates (`strftime`)\n",
    "\n",
    "| Code | Meaning                 |\n",
    "| ---- | ----------------------- |\n",
    "| `%Y` | Year (2025)             |\n",
    "| `%m` | Month (01–12)           |\n",
    "| `%d` | Day (01–31)             |\n",
    "| `%A` | Weekday name (`Monday`) |\n",
    "| `%H` | Hour (24h)              |\n",
    "| `%M` | Minute                  |\n",
    "| `%S` | Second                  |\n",
    "\n",
    "```python\n",
    "given_date = date(2022,1,1)\n",
    "given_date.strftime('%A, %d-%m-%Y')  # 'Saturday, 01-01-2022'\n",
    "```\n",
    "\n",
    "---\n",
    "\n",
    "### 5️⃣ Parsing string to date (`strptime`)\n",
    "\n",
    "```python\n",
    "dt = datetime.strptime('2022-01-01 14:30', '%Y-%m-%d %H:%M')\n",
    "```\n",
    "\n",
    "---\n",
    "\n",
    "### 6️⃣ Date arithmetic (`timedelta`)\n",
    "\n",
    "```python\n",
    "today = date.today()\n",
    "future = today + timedelta(days=100)     # Add 100 days\n",
    "past = today - timedelta(weeks=2)        # Subtract 2 weeks\n",
    "\n",
    "delta = future - today\n",
    "print(delta.days)                        # Difference in days\n",
    "```\n",
    "\n",
    "---\n",
    "\n",
    "### 7️⃣ Extracting components\n",
    "\n",
    "```python\n",
    "now = datetime.now()\n",
    "now.year, now.month, now.day\n",
    "now.hour, now.minute, now.second\n",
    "now.weekday()  # 0=Monday, 6=Sunday\n",
    "```\n",
    "\n",
    "---\n",
    "\n",
    "### 8️⃣ Common ML/AI tasks\n",
    "\n",
    "**1. Feature engineering**\n",
    "\n",
    "```python\n",
    "df['day_of_week'] = df['timestamp'].dt.weekday\n",
    "df['hour'] = df['timestamp'].dt.hour\n",
    "df['is_weekend'] = df['day_of_week'] >= 5\n",
    "```\n",
    "\n",
    "**2. Time differences**\n",
    "\n",
    "```python\n",
    "df['days_since_start'] = (df['timestamp'] - df['timestamp'].min()).dt.days\n",
    "```\n",
    "\n",
    "**3. Resampling time series**\n",
    "\n",
    "```python\n",
    "df.set_index('timestamp').resample('D').mean()  # daily average\n",
    "```\n",
    "\n",
    "**4. Logging & checkpoint timestamps**\n",
    "\n",
    "```python\n",
    "checkpoint = datetime.now().strftime('%Y%m%d_%H%M%S')\n",
    "```\n",
    "\n",
    "---\n",
    "\n",
    "## 9️⃣ Tips to remember\n",
    "\n",
    "* **`date`** → calendar only (Y, M, D)\n",
    "* **`time`** → clock only (H, M, S)\n",
    "* **`datetime`** → full timestamp\n",
    "* **`timedelta`** → difference or add/subtract time\n",
    "* **`strftime` / `strptime`** → convert between string and date/time\n",
    "* **Use `.dt` in pandas** → extract features for ML\n",
    "\n",
    "```\n",
    "\n",
    "---\n",
    "\n",
    "If you want, I can also make a **diagram showing `date`, `time`, `datetime`, and `timedelta` relationships** in Markdown so you can include it in your notes.  \n",
    "\n",
    "Do you want me to do that?\n",
    "```\n"
   ]
  },
  {
   "cell_type": "markdown",
   "id": "9aced6a1",
   "metadata": {},
   "source": [
    "### 10: Working with the `random` Module\n",
    "\n",
    "Use the `random` module to generate a list of 5 random numbers between 1 and 50 and shuffle the elements of a list.\n"
   ]
  },
  {
   "cell_type": "code",
   "execution_count": 39,
   "id": "8a956be4",
   "metadata": {},
   "outputs": [
    {
     "name": "stdout",
     "output_type": "stream",
     "text": [
      "[28, 8, 6, 9, 28]\n",
      "[9, 28, 8, 6, 28]\n"
     ]
    }
   ],
   "source": [
    "import random\n",
    "x = [randint(1,50) for i in range(1,6)]\n",
    "print(x)\n",
    "\n",
    "random.shuffle(x)\n",
    "print(x)"
   ]
  },
  {
   "cell_type": "markdown",
   "id": "9c98f175",
   "metadata": {},
   "source": [
    "### 11: Creating a Simple Package\n",
    "\n",
    "Create a package named `mypackage` with two modules: `module1` and `module2`. `module1` should contain a function that adds two numbers, and `module2` should contain a function that multiplies two numbers. Write code to use these functions.\n"
   ]
  },
  {
   "cell_type": "code",
   "execution_count": 40,
   "id": "eaeb0bc5",
   "metadata": {},
   "outputs": [],
   "source": [
    "os.mkdir('mypackage')"
   ]
  },
  {
   "cell_type": "code",
   "execution_count": null,
   "id": "69da7d61",
   "metadata": {},
   "outputs": [],
   "source": [
    "# change directory \n",
    "os.chdir('mypackage')\n",
    "# Flags: os.O_CREAT = create if not exists, os.O_WRONLY = write only\n",
    "fd = os.open('__init__.py', os.O_CREAT )"
   ]
  },
  {
   "cell_type": "code",
   "execution_count": 44,
   "id": "7473a211",
   "metadata": {},
   "outputs": [
    {
     "ename": "FileExistsError",
     "evalue": "[Errno 17] File exists: 'module1'",
     "output_type": "error",
     "traceback": [
      "\u001b[0;31m---------------------------------------------------------------------------\u001b[0m",
      "\u001b[0;31mFileExistsError\u001b[0m                           Traceback (most recent call last)",
      "Cell \u001b[0;32mIn[44], line 1\u001b[0m\n\u001b[0;32m----> 1\u001b[0m \u001b[43mos\u001b[49m\u001b[38;5;241;43m.\u001b[39;49m\u001b[43mmkdir\u001b[49m\u001b[43m(\u001b[49m\u001b[38;5;124;43m'\u001b[39;49m\u001b[38;5;124;43mmodule1\u001b[39;49m\u001b[38;5;124;43m'\u001b[39;49m\u001b[43m)\u001b[49m\n\u001b[1;32m      2\u001b[0m os\u001b[38;5;241m.\u001b[39mmkdir(\u001b[38;5;124m'\u001b[39m\u001b[38;5;124mmodule2\u001b[39m\u001b[38;5;124m'\u001b[39m)\n",
      "\u001b[0;31mFileExistsError\u001b[0m: [Errno 17] File exists: 'module1'"
     ]
    }
   ],
   "source": [
    "os.mkdir('module1')\n",
    "os.mkdir('module2')"
   ]
  },
  {
   "cell_type": "code",
   "execution_count": 45,
   "id": "22b373b6",
   "metadata": {},
   "outputs": [],
   "source": [
    "os.chdir('module1')"
   ]
  },
  {
   "cell_type": "code",
   "execution_count": 46,
   "id": "5f151bda",
   "metadata": {},
   "outputs": [
    {
     "data": {
      "text/plain": [
       "79"
      ]
     },
     "execution_count": 46,
     "metadata": {},
     "output_type": "execute_result"
    }
   ],
   "source": [
    "os.open('__init__.py', os.O_CREAT)"
   ]
  },
  {
   "cell_type": "code",
   "execution_count": null,
   "id": "0917aced",
   "metadata": {},
   "outputs": [
    {
     "data": {
      "text/plain": [
       "['module1', '__init__.py', 'module2']"
      ]
     },
     "execution_count": 50,
     "metadata": {},
     "output_type": "execute_result"
    }
   ],
   "source": [
    "os.chdir('../')"
   ]
  },
  {
   "cell_type": "code",
   "execution_count": 51,
   "id": "b665cfbd",
   "metadata": {},
   "outputs": [],
   "source": [
    "os.chdir('module2')"
   ]
  },
  {
   "cell_type": "code",
   "execution_count": 52,
   "id": "d92ffe8c",
   "metadata": {},
   "outputs": [
    {
     "data": {
      "text/plain": [
       "82"
      ]
     },
     "execution_count": 52,
     "metadata": {},
     "output_type": "execute_result"
    }
   ],
   "source": [
    "os.open('__init__.py', os.O_CREAT)"
   ]
  },
  {
   "cell_type": "code",
   "execution_count": 54,
   "id": "fb2332c2",
   "metadata": {},
   "outputs": [
    {
     "data": {
      "text/plain": [
       "83"
      ]
     },
     "execution_count": 54,
     "metadata": {},
     "output_type": "execute_result"
    }
   ],
   "source": [
    "os.open('mult.py', os.O_CREAT)"
   ]
  },
  {
   "cell_type": "code",
   "execution_count": 58,
   "id": "715414e9",
   "metadata": {},
   "outputs": [],
   "source": [
    "code = ['def multiply(x, y):\\n', '    return x*y']\n",
    "with open('mult.py', mode='w') as file:\n",
    "    for line in code:\n",
    "        file.write(line)"
   ]
  },
  {
   "cell_type": "code",
   "execution_count": 72,
   "id": "b8c6698f",
   "metadata": {},
   "outputs": [
    {
     "name": "stdout",
     "output_type": "stream",
     "text": [
      "6\n"
     ]
    }
   ],
   "source": [
    "import mypackage.module2.mult as multmodule\n",
    "print(multmodule.multiply(2,3))"
   ]
  },
  {
   "cell_type": "code",
   "execution_count": null,
   "id": "97f7a23e",
   "metadata": {},
   "outputs": [],
   "source": []
  }
 ],
 "metadata": {
  "kernelspec": {
   "display_name": "pythonPractiveEnv",
   "language": "python",
   "name": "python3"
  },
  "language_info": {
   "codemirror_mode": {
    "name": "ipython",
    "version": 3
   },
   "file_extension": ".py",
   "mimetype": "text/x-python",
   "name": "python",
   "nbconvert_exporter": "python",
   "pygments_lexer": "ipython3",
   "version": "3.10.12"
  }
 },
 "nbformat": 4,
 "nbformat_minor": 5
}
