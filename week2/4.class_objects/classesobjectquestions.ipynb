{
 "cells": [
  {
   "cell_type": "markdown",
   "metadata": {},
   "source": [
    "# Module: Classes and Objects Assignments\n",
    "## Lesson: Creating and Working with Classes and Objects\n",
    "### Assignment 1: Basic Class and Object Creation\n",
    "\n",
    "Create a class named `Car` with attributes `make`, `model`, and `year`. Create an object of the class and print its attributes.\n",
    "\n",
    "### Assignment 2: Methods in Class\n",
    "\n",
    "Add a method named `start_engine` to the `Car` class that prints a message when the engine starts. Create an object of the class and call the method.\n",
    "\n",
    "### Assignment 3: Class with Constructor\n",
    "\n",
    "Create a class named `Student` with attributes `name` and `age`. Use a constructor to initialize these attributes. Create an object of the class and print its attributes.\n",
    "\n",
    "### Assignment 4: Class with Private Attributes\n",
    "\n",
    "Create a class named `BankAccount` with private attributes `account_number` and `balance`. Add methods to deposit and withdraw money, and to check the balance. Create an object of the class and perform some operations.\n",
    "\n",
    "### Assignment 5: Class Inheritance\n",
    "\n",
    "Create a base class named `Person` with attributes `name` and `age`. Create a derived class named `Employee` that inherits from `Person` and adds an attribute `employee_id`. Create an object of the derived class and print its attributes.\n",
    "\n",
    "### Assignment 6: Method Overriding\n",
    "\n",
    "In the `Employee` class, override the `__str__` method to return a string representation of the object. Create an object of the class and print it.\n",
    "\n",
    "### Assignment 7: Class Composition\n",
    "\n",
    "Create a class named `Address` with attributes `street`, `city`, and `zipcode`. Create a class named `Person` that has an `Address` object as an attribute. Create an object of the `Person` class and print its address.\n",
    "\n",
    "### Assignment 8: Class with Class Variables\n",
    "\n",
    "Create a class named `Counter` with a class variable `count`. Each time an object is created, increment the count. Add a method to get the current count. Create multiple objects and print the count.\n",
    "\n",
    "### Assignment 9: Static Methods\n",
    "\n",
    "Create a class named `MathOperations` with a static method to calculate the square root of a number. Call the static method without creating an object.\n",
    "\n",
    "### Assignment 10: Class with Properties\n",
    "\n",
    "Create a class named `Rectangle` with private attributes `length` and `width`. Use properties to get and set these attributes. Create an object of the class and test the properties.\n",
    "\n",
    "### Assignment 11: Abstract Base Class\n",
    "\n",
    "Create an abstract base class named `Shape` with an abstract method `area`. Create derived classes `Circle` and `Square` that implement the `area` method. Create objects of the derived classes and call the `area` method.\n",
    "\n",
    "### Assignment 12: Operator Overloading\n",
    "\n",
    "Create a class named `Vector` with attributes `x` and `y`. Overload the `+` operator to add two `Vector` objects. Create objects of the class and test the operator overloading.\n",
    "\n",
    "### Assignment 13: Class with Custom Exception\n",
    "\n",
    "Create a custom exception named `InsufficientBalanceError`. In the `BankAccount` class, raise this exception when a withdrawal amount is greater than the balance. Handle the exception and print an appropriate message.\n",
    "\n",
    "### Assignment 14: Class with Context Manager\n",
    "\n",
    "Create a class named `FileManager` that implements the context manager protocol to open and close a file. Use this class to read the contents of a file.\n",
    "\n",
    "### Assignment 15: Chaining Methods\n",
    "\n",
    "Create a class named `Calculator` with methods to add, subtract, multiply, and divide. Each method should return the object itself to allow method chaining. Create an object and chain multiple method calls."
   ]
  },
  {
   "cell_type": "markdown",
   "id": "c89dc60d",
   "metadata": {},
   "source": [
    "### 1: Basic Class and Object Creation\n",
    "\n",
    "Create a class named `Car` with attributes `make`, `model`, and `year`. Create an object of the class and print its attributes."
   ]
  },
  {
   "cell_type": "code",
   "execution_count": 1,
   "metadata": {},
   "outputs": [
    {
     "name": "stdout",
     "output_type": "stream",
     "text": [
      "hyd 2012 V3\n"
     ]
    }
   ],
   "source": [
    "class Car:\n",
    "    def __init__(self, make, model, year):\n",
    "        self.make = make\n",
    "        self.model = model\n",
    "        self.year = year\n",
    "        print(make, year, model)\n",
    "    pass\n",
    "car = Car('hyd', 'V3', 2012)"
   ]
  },
  {
   "cell_type": "markdown",
   "id": "c22062f1",
   "metadata": {},
   "source": [
    "### 2: Methods in Class\n",
    "\n",
    "Add a method named `start_engine` to the `Car` class that prints a message when the engine starts. Create an object of the class and call the method."
   ]
  },
  {
   "cell_type": "code",
   "execution_count": 3,
   "id": "7a9ab0b3",
   "metadata": {},
   "outputs": [
    {
     "name": "stdout",
     "output_type": "stream",
     "text": [
      "hyd 2012 V3\n",
      "started engine\n"
     ]
    }
   ],
   "source": [
    "class Car:\n",
    "    def __init__(self, make, model, year):\n",
    "        self.make = make\n",
    "        self.model = model\n",
    "        self.year = year\n",
    "        print(make, year, model)\n",
    "    def start_engine(self,):\n",
    "        print(\"started engine\")\n",
    "    pass\n",
    "car = Car('hyd', 'V3', 2012)\n",
    "car.start_engine()"
   ]
  },
  {
   "cell_type": "markdown",
   "id": "b152f7cc",
   "metadata": {},
   "source": [
    "### 3: Class with Constructor\n",
    "\n",
    "Create a class named `Student` with attributes `name` and `age`. Use a constructor to initialize these attributes. Create an object of the class and print its attributes."
   ]
  },
  {
   "cell_type": "code",
   "execution_count": 4,
   "id": "7d33a18d",
   "metadata": {},
   "outputs": [
    {
     "name": "stdout",
     "output_type": "stream",
     "text": [
      "hema 22\n"
     ]
    }
   ],
   "source": [
    "class Student:\n",
    "    def __init__(self, name, age):\n",
    "        self.name = name\n",
    "        self.age = age\n",
    "        print(name, age)\n",
    "st1 = Student('hema', 22)"
   ]
  },
  {
   "cell_type": "markdown",
   "id": "329fe05d",
   "metadata": {},
   "source": [
    "### 4: Class with Private Attributes\n",
    "\n",
    "Create a class named `BankAccount` with private attributes `account_number` and `balance`. Add methods to deposit and withdraw money, and to check the balance. Create an object of the class and perform some operations."
   ]
  },
  {
   "cell_type": "code",
   "execution_count": 8,
   "id": "cedfd009",
   "metadata": {},
   "outputs": [],
   "source": [
    "\n",
    "class LowBalanceException(Exception):\n",
    "    def __init__(self, b):\n",
    "        self.value = b\n",
    "        super().__init__(f\"your balance is less than: {b}\")\n",
    "        \n",
    "\n",
    "class BankAccount:\n",
    "    def __init__(self, account_number, balance):\n",
    "        self.__account_number = account_number\n",
    "        self.__balance = balance\n",
    "    def withdraw(self,amount):\n",
    "        if(amount > self.__balance):\n",
    "            raise LowBalanceException(amount)\n",
    "        self.__balance -= amount\n",
    "        print(f\"balance is: {self.__balance}\")\n",
    "    def checkBalance(self):\n",
    "        print(f\"balance is: {self.__balance}\")\n",
    "\n",
    "b1 = BankAccount(123, 2000)"
   ]
  },
  {
   "cell_type": "code",
   "execution_count": 9,
   "id": "32c85d9e",
   "metadata": {},
   "outputs": [
    {
     "name": "stdout",
     "output_type": "stream",
     "text": [
      "your balance is less than: 3000\n"
     ]
    }
   ],
   "source": [
    "try:\n",
    "    b1.withdraw(3000)\n",
    "except LowBalanceException as ex:\n",
    "    print(ex)"
   ]
  },
  {
   "cell_type": "code",
   "execution_count": 10,
   "id": "775da1e0",
   "metadata": {},
   "outputs": [
    {
     "name": "stdout",
     "output_type": "stream",
     "text": [
      "balance is: 2000\n"
     ]
    }
   ],
   "source": [
    "b1.checkBalance()"
   ]
  },
  {
   "cell_type": "code",
   "execution_count": 11,
   "id": "46f03f5a",
   "metadata": {},
   "outputs": [
    {
     "name": "stdout",
     "output_type": "stream",
     "text": [
      "balance is: 800\n"
     ]
    }
   ],
   "source": [
    "b1.withdraw(1200)"
   ]
  },
  {
   "cell_type": "markdown",
   "id": "e2657975",
   "metadata": {},
   "source": [
    "### 5: Class Inheritance\n",
    "\n",
    "Create a base class named `Person` with attributes `name` and `age`. Create a derived class named `Employee` that inherits from `Person` and adds an attribute `employee_id`. Create an object of the derived class and print its attributes."
   ]
  },
  {
   "cell_type": "code",
   "execution_count": 17,
   "id": "c0b1f4f9",
   "metadata": {},
   "outputs": [],
   "source": [
    "class Person:\n",
    "    def __init__(self, name, age):\n",
    "        self.name = name\n",
    "        self.age = age\n",
    "class Employee(Person):\n",
    "    def __init__(self, name, age, employee_id):\n",
    "        super().__init__(name, age)\n",
    "        self.employee_id = employee_id\n",
    "person1 = Employee('hema', 23, 1276)"
   ]
  },
  {
   "cell_type": "markdown",
   "id": "79b4f0e9",
   "metadata": {},
   "source": [
    "### 6: Method Overriding\n",
    "\n",
    "In the `Employee` class, override the `__str__` method to return a string representation of the object. Create an object of the class and print it."
   ]
  },
  {
   "cell_type": "code",
   "execution_count": 29,
   "id": "18da72b0",
   "metadata": {},
   "outputs": [],
   "source": [
    "class Employee1(Person):\n",
    "    def __init__(self, name, age, employee_id):\n",
    "        super().__init__(name, age)\n",
    "        self.employee_id = employee_id\n",
    "\n",
    "    def __str__(self):\n",
    "        return f\"Employee(Name: {self.name}, Age: {self.age}, Employee ID: {self.employee_id})\"\n"
   ]
  },
  {
   "cell_type": "code",
   "execution_count": 30,
   "id": "35662850",
   "metadata": {},
   "outputs": [],
   "source": [
    "person1 = Employee1('hema', 23, 1902)"
   ]
  },
  {
   "cell_type": "code",
   "execution_count": 32,
   "id": "4d998830",
   "metadata": {},
   "outputs": [
    {
     "name": "stdout",
     "output_type": "stream",
     "text": [
      "Employee(Name: hema, Age: 23, Employee ID: 1902)\n"
     ]
    }
   ],
   "source": [
    "print(person1)"
   ]
  },
  {
   "cell_type": "markdown",
   "id": "7a0aa811",
   "metadata": {},
   "source": [
    "### 7: Class Composition\n",
    "\n",
    "Create a class named `Address` with attributes `street`, `city`, and `zipcode`. Create a class named `Person` that has an `Address` object as an attribute. Create an object of the `Person` class and print its address."
   ]
  },
  {
   "cell_type": "code",
   "execution_count": 33,
   "id": "b01ab219",
   "metadata": {},
   "outputs": [],
   "source": [
    "class Address:\n",
    "    def __init__(self, city, zipcode):\n",
    "        self.city = city\n",
    "        self.zipcode = zipcode\n",
    "\n",
    "class Person:\n",
    "    def __init__(self, addressObj):\n",
    "        self.address = f\"Lives in {addressObj.city}, zip {addressObj.zipcode}\"\n",
    "    def print_address(self):\n",
    "        print(self.address)"
   ]
  },
  {
   "cell_type": "code",
   "execution_count": 36,
   "id": "51b203a5",
   "metadata": {},
   "outputs": [
    {
     "name": "stdout",
     "output_type": "stream",
     "text": [
      "Lives in hyderabad, zip 509381\n"
     ]
    }
   ],
   "source": [
    "address = Address('hyderabad', 509381)\n",
    "person2 = Person(address)\n",
    "person2.print_address()"
   ]
  },
  {
   "cell_type": "markdown",
   "id": "1067af2c",
   "metadata": {},
   "source": [
    "### 8: Class with Class Variables\n",
    "\n",
    "Create a class named `Counter` with a class variable `count`. Each time an object is created, increment the count. Add a method to get the current count. Create multiple objects and print the count."
   ]
  },
  {
   "cell_type": "markdown",
   "id": "ef6b9f0e",
   "metadata": {},
   "source": [
    "| Type              | Declared where                | Shared across objects? | Accessed by            |\n",
    "| ----------------- | ----------------------------- | ---------------------- | ---------------------- |\n",
    "| Class variable    | Inside class, outside methods | ✅ Yes                  | Class or object        |\n",
    "| Instance variable | Inside `__init__` (usually)   | ❌ No                   | Each object separately |\n"
   ]
  },
  {
   "cell_type": "code",
   "execution_count": 39,
   "id": "6ee5f4d8",
   "metadata": {},
   "outputs": [],
   "source": [
    "class Counter:\n",
    "    count = 0\n",
    "\n",
    "    def __init__(self):\n",
    "        Counter.count += 1\n",
    "\n",
    "    @classmethod\n",
    "    def get_count(cls):\n",
    "        return cls.count"
   ]
  },
  {
   "cell_type": "code",
   "execution_count": 43,
   "id": "3e7062e0",
   "metadata": {},
   "outputs": [],
   "source": [
    "c1 = Counter()"
   ]
  },
  {
   "cell_type": "code",
   "execution_count": 44,
   "id": "02f71352",
   "metadata": {},
   "outputs": [
    {
     "data": {
      "text/plain": [
       "3"
      ]
     },
     "execution_count": 44,
     "metadata": {},
     "output_type": "execute_result"
    }
   ],
   "source": [
    "c1.get_count()"
   ]
  },
  {
   "cell_type": "markdown",
   "id": "8475edd3",
   "metadata": {},
   "source": [
    "### 9: Static Methods\n",
    "\n",
    "Create a class named `MathOperations` with a static method to calculate the square root of a number. Call the static method without creating an object."
   ]
  },
  {
   "cell_type": "code",
   "execution_count": 45,
   "id": "ab4f1b1b",
   "metadata": {},
   "outputs": [
    {
     "name": "stdout",
     "output_type": "stream",
     "text": [
      "hello\n"
     ]
    }
   ],
   "source": [
    "class MathOperations:\n",
    "    @classmethod\n",
    "    def print(a):\n",
    "        print(\"hello\")\n",
    "MathOperations.print()"
   ]
  },
  {
   "cell_type": "markdown",
   "id": "9e9fe972",
   "metadata": {},
   "source": [
    "### 10: Class with Properties\n",
    "\n",
    "Create a class named `Rectangle` with private attributes `length` and `width`. Use properties to get and set these attributes. Create an object of the class and test the properties."
   ]
  },
  {
   "cell_type": "code",
   "execution_count": 46,
   "id": "a308354f",
   "metadata": {},
   "outputs": [],
   "source": [
    "class Rectangle:\n",
    "    def __init__(self, length, width):\n",
    "        self.__length = length\n",
    "        self.__width = width\n",
    "    @property\n",
    "    def length(self):\n",
    "        return self.__length\n",
    "    @length.setter\n",
    "    def length(self, a):\n",
    "        self.__length = a"
   ]
  },
  {
   "cell_type": "code",
   "execution_count": 47,
   "id": "528eb071",
   "metadata": {},
   "outputs": [],
   "source": [
    "r1 = Rectangle(2,3)"
   ]
  },
  {
   "cell_type": "code",
   "execution_count": 48,
   "id": "db3e4cc6",
   "metadata": {},
   "outputs": [],
   "source": [
    "r1.length = 4"
   ]
  },
  {
   "cell_type": "code",
   "execution_count": 49,
   "id": "b13f1594",
   "metadata": {},
   "outputs": [
    {
     "ename": "TypeError",
     "evalue": "'int' object is not callable",
     "output_type": "error",
     "traceback": [
      "\u001b[0;31m---------------------------------------------------------------------------\u001b[0m",
      "\u001b[0;31mTypeError\u001b[0m                                 Traceback (most recent call last)",
      "Cell \u001b[0;32mIn[49], line 1\u001b[0m\n\u001b[0;32m----> 1\u001b[0m \u001b[43mr1\u001b[49m\u001b[38;5;241;43m.\u001b[39;49m\u001b[43mlength\u001b[49m\u001b[43m(\u001b[49m\u001b[43m)\u001b[49m\n",
      "\u001b[0;31mTypeError\u001b[0m: 'int' object is not callable"
     ]
    }
   ],
   "source": [
    "r1.length()"
   ]
  },
  {
   "cell_type": "code",
   "execution_count": 50,
   "id": "2c6e21ec",
   "metadata": {},
   "outputs": [
    {
     "data": {
      "text/plain": [
       "4"
      ]
     },
     "execution_count": 50,
     "metadata": {},
     "output_type": "execute_result"
    }
   ],
   "source": [
    "r1.length"
   ]
  },
  {
   "cell_type": "markdown",
   "id": "34fe10c0",
   "metadata": {},
   "source": [
    "### 11: Abstract Base Class\n",
    "\n",
    "Create an abstract base class named `Shape` with an abstract method `area`. Create derived classes `Circle` and `Square` that implement the `area` method. Create objects of the derived classes and call the `area` method."
   ]
  },
  {
   "cell_type": "code",
   "execution_count": 52,
   "id": "51cf4231",
   "metadata": {},
   "outputs": [],
   "source": [
    "from abc import ABC,abstractmethod\n",
    "class Shape(ABC):\n",
    "    @abstractmethod\n",
    "    def area(self):\n",
    "        pass"
   ]
  },
  {
   "cell_type": "code",
   "execution_count": 53,
   "id": "70035790",
   "metadata": {},
   "outputs": [],
   "source": [
    "from math import pow\n",
    "class Circle(Shape):\n",
    "    def __init__(self, r):\n",
    "        self.r = r\n",
    "    def area(self):\n",
    "        return 3.14 * pow(self.r, 2)\n"
   ]
  },
  {
   "cell_type": "code",
   "execution_count": 54,
   "id": "93bbf2ad",
   "metadata": {},
   "outputs": [],
   "source": [
    "a = Circle(2)"
   ]
  },
  {
   "cell_type": "code",
   "execution_count": 55,
   "id": "8785a551",
   "metadata": {},
   "outputs": [
    {
     "data": {
      "text/plain": [
       "12.56"
      ]
     },
     "execution_count": 55,
     "metadata": {},
     "output_type": "execute_result"
    }
   ],
   "source": [
    "a.area()"
   ]
  },
  {
   "cell_type": "markdown",
   "id": "d7355847",
   "metadata": {},
   "source": [
    "### 12: Operator Overloading\n",
    "\n",
    "Create a class named `Vector` with attributes `x` and `y`. Overload the `+` operator to add two `Vector` objects. Create objects of the class and test the operator overloading."
   ]
  },
  {
   "cell_type": "code",
   "execution_count": 56,
   "id": "d9f0a65a",
   "metadata": {},
   "outputs": [],
   "source": [
    "class Vector:\n",
    "    def __init__(self, x, y):\n",
    "        self.x = x\n",
    "        self.y = y\n",
    "    def __add__(self, v2):\n",
    "        return Vector(self.x + v2.x, self.y + v2.y)"
   ]
  },
  {
   "cell_type": "code",
   "execution_count": 57,
   "id": "a66c848b",
   "metadata": {},
   "outputs": [],
   "source": [
    "v1 = Vector(1,2)"
   ]
  },
  {
   "cell_type": "code",
   "execution_count": 58,
   "id": "2006dae3",
   "metadata": {},
   "outputs": [],
   "source": [
    "v2 = Vector(2,2)"
   ]
  },
  {
   "cell_type": "code",
   "execution_count": 60,
   "id": "6d4c7ae9",
   "metadata": {},
   "outputs": [],
   "source": [
    "a = v1+v2"
   ]
  },
  {
   "cell_type": "code",
   "execution_count": 61,
   "id": "bc0f3dee",
   "metadata": {},
   "outputs": [
    {
     "name": "stdout",
     "output_type": "stream",
     "text": [
      "3 4\n"
     ]
    }
   ],
   "source": [
    "print(a.x, a.y)"
   ]
  },
  {
   "cell_type": "markdown",
   "id": "e9b4acbb",
   "metadata": {},
   "source": [
    "### 13: Class with Custom Exception\n",
    "\n",
    "Create a custom exception named `InsufficientBalanceError`. In the `BankAccount` class, raise this exception when a withdrawal amount is greater than the balance. Handle the exception and print an appropriate message."
   ]
  },
  {
   "cell_type": "code",
   "execution_count": 62,
   "id": "3da6b7e2",
   "metadata": {},
   "outputs": [],
   "source": [
    "class InsufficientBalanceError(Exception):\n",
    "    def __init__(self, value):\n",
    "        self.value = value\n",
    "        super().__init__(f\"this is an insufficient balance Error: balance less than {self.value}\")"
   ]
  },
  {
   "cell_type": "code",
   "execution_count": 63,
   "id": "4e7477c6",
   "metadata": {},
   "outputs": [],
   "source": [
    "class BankAccount:\n",
    "    def __init__(self, balance):\n",
    "        self.balance = balance\n",
    "    def withdraw(self, amount):\n",
    "        if(amount>self.balance):\n",
    "            raise InsufficientBalanceError(amount)\n",
    "        else:\n",
    "            self.balance -= amount\n",
    "            return f\"balance left is: {self.balance}\""
   ]
  },
  {
   "cell_type": "code",
   "execution_count": 64,
   "id": "963030e3",
   "metadata": {},
   "outputs": [],
   "source": [
    "b = BankAccount(200)"
   ]
  },
  {
   "cell_type": "code",
   "execution_count": 65,
   "id": "62a865aa",
   "metadata": {},
   "outputs": [
    {
     "ename": "InsufficientBalanceError",
     "evalue": "this is an insufficient balance Error: balance less than 300",
     "output_type": "error",
     "traceback": [
      "\u001b[0;31m---------------------------------------------------------------------------\u001b[0m",
      "\u001b[0;31mInsufficientBalanceError\u001b[0m                  Traceback (most recent call last)",
      "Cell \u001b[0;32mIn[65], line 1\u001b[0m\n\u001b[0;32m----> 1\u001b[0m \u001b[43mb\u001b[49m\u001b[38;5;241;43m.\u001b[39;49m\u001b[43mwithdraw\u001b[49m\u001b[43m(\u001b[49m\u001b[38;5;241;43m300\u001b[39;49m\u001b[43m)\u001b[49m\n",
      "Cell \u001b[0;32mIn[63], line 6\u001b[0m, in \u001b[0;36mBankAccount.withdraw\u001b[0;34m(self, amount)\u001b[0m\n\u001b[1;32m      4\u001b[0m \u001b[38;5;28;01mdef\u001b[39;00m\u001b[38;5;250m \u001b[39m\u001b[38;5;21mwithdraw\u001b[39m(\u001b[38;5;28mself\u001b[39m, amount):\n\u001b[1;32m      5\u001b[0m     \u001b[38;5;28;01mif\u001b[39;00m(amount\u001b[38;5;241m>\u001b[39m\u001b[38;5;28mself\u001b[39m\u001b[38;5;241m.\u001b[39mbalance):\n\u001b[0;32m----> 6\u001b[0m         \u001b[38;5;28;01mraise\u001b[39;00m InsufficientBalanceError(amount)\n\u001b[1;32m      7\u001b[0m     \u001b[38;5;28;01melse\u001b[39;00m:\n\u001b[1;32m      8\u001b[0m         \u001b[38;5;28mself\u001b[39m\u001b[38;5;241m.\u001b[39mbalance \u001b[38;5;241m-\u001b[39m\u001b[38;5;241m=\u001b[39m amount\n",
      "\u001b[0;31mInsufficientBalanceError\u001b[0m: this is an insufficient balance Error: balance less than 300"
     ]
    }
   ],
   "source": [
    "b.withdraw(300)"
   ]
  },
  {
   "cell_type": "markdown",
   "id": "9d6eb432",
   "metadata": {},
   "source": [
    "### 14: Class with Context Manager\n",
    "\n",
    "Create a class named `FileManager` that implements the context manager protocol to open and close a file. Use this class to read the contents of a file."
   ]
  },
  {
   "cell_type": "code",
   "execution_count": 76,
   "id": "32fdec91",
   "metadata": {},
   "outputs": [],
   "source": [
    "class FileManager:\n",
    "    def __init__(self, file_name):\n",
    "        self.file = file_name\n",
    "    def open_file(self):\n",
    "        with open(self.file, 'w+')as file:\n",
    "            self.open_file = file\n",
    "            return file.read()\n",
    "    def close(self):\n",
    "        self.open_file.close()"
   ]
  },
  {
   "cell_type": "code",
   "execution_count": 77,
   "id": "3b19f1b7",
   "metadata": {},
   "outputs": [],
   "source": [
    "f1 = FileManager('output.txt')"
   ]
  },
  {
   "cell_type": "code",
   "execution_count": 78,
   "id": "3d3b546d",
   "metadata": {},
   "outputs": [
    {
     "data": {
      "text/plain": [
       "''"
      ]
     },
     "execution_count": 78,
     "metadata": {},
     "output_type": "execute_result"
    }
   ],
   "source": [
    "f1.open_file()"
   ]
  },
  {
   "cell_type": "code",
   "execution_count": 80,
   "id": "0090a04e",
   "metadata": {},
   "outputs": [],
   "source": [
    "f1.close()"
   ]
  },
  {
   "cell_type": "markdown",
   "id": "dda88297",
   "metadata": {},
   "source": [
    "### 15: Chaining Methods\n",
    "\n",
    "Create a class named `Calculator` with methods to add, subtract, multiply, and divide. Each method should return the object itself to allow method chaining. Create an object and chain multiple method calls."
   ]
  },
  {
   "cell_type": "code",
   "execution_count": 1,
   "id": "23315e61",
   "metadata": {},
   "outputs": [],
   "source": [
    "class Calculator:\n",
    "    def __init__(self, value=0):\n",
    "        self.value = value\n",
    "\n",
    "    def add(self, amount):\n",
    "        self.value += amount\n",
    "        return self\n",
    "\n",
    "    def subtract(self, amount):\n",
    "        self.value -= amount\n",
    "        return self\n",
    "\n",
    "    def multiply(self, amount):\n",
    "        self.value *= amount\n",
    "        return self\n",
    "\n",
    "    def divide(self, amount):\n",
    "        if amount != 0:\n",
    "            self.value /= amount\n",
    "        else:\n",
    "            print(\"Cannot divide by zero!\")\n",
    "        return self\n",
    "\n",
    "# Test\n",
    "# calc = Calculator()\n",
    "# calc.add(10).subtract(3).multiply(2).divide(2)\n",
    "# print(calc.value)  # 7.0"
   ]
  },
  {
   "cell_type": "code",
   "execution_count": null,
   "id": "8176b262",
   "metadata": {},
   "outputs": [],
   "source": []
  }
 ],
 "metadata": {
  "kernelspec": {
   "display_name": "pythonPractiveEnv",
   "language": "python",
   "name": "python3"
  },
  "language_info": {
   "codemirror_mode": {
    "name": "ipython",
    "version": 3
   },
   "file_extension": ".py",
   "mimetype": "text/x-python",
   "name": "python",
   "nbconvert_exporter": "python",
   "pygments_lexer": "ipython3",
   "version": "3.10.12"
  }
 },
 "nbformat": 4,
 "nbformat_minor": 5
}
