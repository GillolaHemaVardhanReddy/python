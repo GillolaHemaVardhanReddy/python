{
 "cells": [
  {
   "cell_type": "markdown",
   "metadata": {},
   "source": [
    "# Module: Inheritance Assignments\n",
    "## Lesson: Single and Multiple Inheritance\n",
    "### Assignment 1: Single Inheritance Basic\n",
    "\n",
    "Create a base class named `Animal` with attributes `name` and `species`. Create a derived class named `Dog` that inherits from `Animal` and adds an attribute `breed`. Create an object of the `Dog` class and print its attributes.\n",
    "\n",
    "### Assignment 2: Method Overriding in Single Inheritance\n",
    "\n",
    "In the `Dog` class, override the `__str__` method to return a string representation of the object. Create an object of the class and print it.\n",
    "\n",
    "### Assignment 3: Single Inheritance with Additional Methods\n",
    "\n",
    "In the `Dog` class, add a method named `bark` that prints a barking sound. Create an object of the class and call the method.\n",
    "\n",
    "### Assignment 4: Multiple Inheritance Basic\n",
    "\n",
    "Create a base class named `Walker` with a method `walk` that prints a walking message. Create another base class named `Runner` with a method `run` that prints a running message. Create a derived class named `Athlete` that inherits from both `Walker` and `Runner`. Create an object of the `Athlete` class and call both methods.\n",
    "\n",
    "### Assignment 5: Method Resolution Order (MRO) in Multiple Inheritance\n",
    "\n",
    "In the `Athlete` class, override the `walk` method to print a different message. Create an object of the class and call the `walk` method. Use the `super()` function to call the `walk` method of the `Walker` class.\n",
    "\n",
    "### Assignment 6: Multiple Inheritance with Additional Attributes\n",
    "\n",
    "In the `Athlete` class, add an attribute `training_hours` and a method `train` that prints the training hours. Create an object of the class and call the method.\n",
    "\n",
    "### Assignment 7: Diamond Problem in Multiple Inheritance\n",
    "\n",
    "Create a class named `A` with a method `show` that prints a message. Create two derived classes `B` and `C` that inherit from `A` and override the `show` method. Create a class `D` that inherits from both `B` and `C`. Create an object of the `D` class and call the `show` method. Observe the method resolution order.\n",
    "\n",
    "### Assignment 8: Using `super()` in Single Inheritance\n",
    "\n",
    "Create a base class named `Shape` with an attribute `color`. Create a derived class named `Circle` that inherits from `Shape` and adds an attribute `radius`. Use the `super()` function to initialize the attributes. Create an object of the `Circle` class and print its attributes.\n",
    "\n",
    "### Assignment 9: Using `super()` in Multiple Inheritance\n",
    "\n",
    "Create a class named `Person` with an attribute `name`. Create a class named `Employee` with an attribute `employee_id`. Create a derived class `Manager` that inherits from both `Person` and `Employee`. Use the `super()` function to initialize the attributes. Create an object of the `Manager` class and print its attributes.\n",
    "\n",
    "### Assignment 10: Method Overriding and `super()`\n",
    "\n",
    "Create a class named `Vehicle` with a method `start` that prints a starting message. Create a derived class `Car` that overrides the `start` method to print a different message. Use the `super()` function to call the `start` method of the `Vehicle` class. Create an object of the `Car` class and call the `start` method.\n",
    "\n",
    "### Assignment 11: Multiple Inheritance with Different Methods\n",
    "\n",
    "Create a class named `Flyer` with a method `fly` that prints a flying message. Create a class named `Swimmer` with a method `swim` that prints a swimming message. Create a derived class `Superhero` that inherits from both `Flyer` and `Swimmer`. Create an object of the `Superhero` class and call both methods.\n",
    "\n",
    "### Assignment 12: Complex Multiple Inheritance\n",
    "\n",
    "Create a class named `Base1` with an attribute `a`. Create a class named `Base2` with an attribute `b`. Create a class named `Derived` that inherits from both `Base1` and `Base2` and adds an attribute `c`. Initialize all attributes using the `super()` function. Create an object of the `Derived` class and print its attributes.\n",
    "\n",
    "### Assignment 13: Checking Instance Types with Inheritance\n",
    "\n",
    "Create a base class named `Animal` and a derived class named `Cat`. Create objects of both classes and use the `isinstance` function to check the instance types.\n",
    "\n",
    "### Assignment 14: Polymorphism with Inheritance\n",
    "\n",
    "Create a base class named `Bird` with a method `speak`. Create two derived classes `Parrot` and `Penguin` that override the `speak` method. Create a list of `Bird` objects and call the `speak` method on each object to demonstrate polymorphism.\n",
    "\n",
    "### Assignment 15: Combining Single and Multiple Inheritance\n",
    "\n",
    "Create a base class named `Device` with an attribute `brand`. Create a derived class `Phone` that inherits from `Device` and adds an attribute `model`. Create another base class `Camera` with an attribute `resolution`. Create a derived class `Smartphone` that inherits from both `Phone` and `Camera`. Create an object of the `Smartphone` class and print its attributes."
   ]
  },
  {
   "cell_type": "markdown",
   "id": "6a33cbd2",
   "metadata": {},
   "source": [
    "### 1: Single Inheritance Basic\n",
    "\n",
    "Create a base class named `Animal` with attributes `name` and `species`. Create a derived class named `Dog` that inherits from `Animal` and adds an attribute `breed`. Create an object of the `Dog` class and print its attributes."
   ]
  },
  {
   "cell_type": "code",
   "execution_count": 1,
   "metadata": {},
   "outputs": [],
   "source": [
    "class Animal:\n",
    "    def __init__(self, name, species):\n",
    "        self.name = name\n",
    "        self.species = species\n",
    "class Dog(Animal):\n",
    "    def __init__(self, name, species, breed):\n",
    "        super().__init__(name, species)\n",
    "        self.breed = breed\n",
    "\n",
    "dog = Dog('tommy', 'Doggy', 'homelander')"
   ]
  },
  {
   "cell_type": "code",
   "execution_count": 2,
   "id": "3ed4d925",
   "metadata": {},
   "outputs": [
    {
     "name": "stdout",
     "output_type": "stream",
     "text": [
      "tommy Doggy homelander\n"
     ]
    }
   ],
   "source": [
    "print(dog.name, dog.species, dog.breed)"
   ]
  },
  {
   "cell_type": "markdown",
   "id": "509065e0",
   "metadata": {},
   "source": [
    "### 2: Method Overriding in Single Inheritance\n",
    "\n",
    "In the `Dog` class, override the `__str__` method to return a string representation of the object. Create an object of the class and print it."
   ]
  },
  {
   "cell_type": "code",
   "execution_count": 3,
   "id": "8134a183",
   "metadata": {},
   "outputs": [],
   "source": [
    "class Dog(Animal):\n",
    "    def __init__(self, name, species, breed):\n",
    "        super().__init__(name, species)\n",
    "        self.breed = breed\n",
    "    def __str__(self):\n",
    "        return f\"its name is {self.name} and its breed is {self.breed}\""
   ]
  },
  {
   "cell_type": "code",
   "execution_count": 4,
   "id": "63304884",
   "metadata": {},
   "outputs": [
    {
     "name": "stdout",
     "output_type": "stream",
     "text": [
      "its name is tommy and its breed is homelander\n"
     ]
    }
   ],
   "source": [
    "dog = Dog('tommy', 'Doggy', 'homelander')\n",
    "print(dog)"
   ]
  },
  {
   "cell_type": "markdown",
   "id": "92e73196",
   "metadata": {},
   "source": [
    "### 3: Single Inheritance with Additional Methods\n",
    "\n",
    "In the `Dog` class, add a method named `bark` that prints a barking sound. Create an object of the class and call the method."
   ]
  },
  {
   "cell_type": "code",
   "execution_count": 5,
   "id": "0a970158",
   "metadata": {},
   "outputs": [],
   "source": [
    "class Dog(Animal):\n",
    "    def __init__(self, name, species, breed):\n",
    "        super().__init__(name, species)\n",
    "        self.breed = breed\n",
    "    def __str__(self):\n",
    "        return f\"its name is {self.name} and its breed is {self.breed}\"\n",
    "    \n",
    "    def bark(self):\n",
    "        return f\"{self.name} says wooff\""
   ]
  },
  {
   "cell_type": "markdown",
   "id": "8fbf649e",
   "metadata": {},
   "source": [
    "### 4: Multiple Inheritance Basic\n",
    "\n",
    "Create a base class named `Walker` with a method `walk` that prints a walking message. Create another base class named `Runner` with a method `run` that prints a running message. Create a derived class named `Athlete` that inherits from both `Walker` and `Runner`. Create an object of the `Athlete` class and call both methods."
   ]
  },
  {
   "cell_type": "code",
   "execution_count": 17,
   "id": "a4d6806c",
   "metadata": {},
   "outputs": [],
   "source": [
    "class Walker:\n",
    "    def walk(self):\n",
    "        print(\"i am walking\")"
   ]
  },
  {
   "cell_type": "code",
   "execution_count": 18,
   "id": "2b78b792",
   "metadata": {},
   "outputs": [],
   "source": [
    "class Runner:\n",
    "    def run(self):\n",
    "        print(\"i am running\")"
   ]
  },
  {
   "cell_type": "code",
   "execution_count": 19,
   "id": "5d5ced28",
   "metadata": {},
   "outputs": [],
   "source": [
    "class Athelete(Walker, Runner):\n",
    "    def __init__(self):\n",
    "        pass\n",
    "    pass"
   ]
  },
  {
   "cell_type": "code",
   "execution_count": 20,
   "id": "7d5e81ca",
   "metadata": {},
   "outputs": [],
   "source": [
    "a = Athelete()"
   ]
  },
  {
   "cell_type": "code",
   "execution_count": 21,
   "id": "4746e207",
   "metadata": {},
   "outputs": [
    {
     "name": "stdout",
     "output_type": "stream",
     "text": [
      "i am running\n"
     ]
    }
   ],
   "source": [
    "a.run()"
   ]
  },
  {
   "cell_type": "markdown",
   "id": "9788cf23",
   "metadata": {},
   "source": [
    "### 5: Method Resolution Order (MRO) in Multiple Inheritance\n",
    "\n",
    "In the `Athlete` class, override the `walk` method to print a different message. Create an object of the class and call the `walk` method. Use the `super()` function to call the `walk` method of the `Walker` class."
   ]
  },
  {
   "cell_type": "code",
   "execution_count": 27,
   "id": "ab7f85d1",
   "metadata": {},
   "outputs": [],
   "source": [
    "class Athlete(Walker):\n",
    "    def walk(self):\n",
    "        print(\"hello\")\n",
    "        super().walk()"
   ]
  },
  {
   "cell_type": "code",
   "execution_count": 28,
   "id": "a116b097",
   "metadata": {},
   "outputs": [],
   "source": [
    "a = Athlete()"
   ]
  },
  {
   "cell_type": "code",
   "execution_count": 29,
   "id": "941c4afe",
   "metadata": {},
   "outputs": [
    {
     "name": "stdout",
     "output_type": "stream",
     "text": [
      "hello\n",
      "i am walking\n"
     ]
    }
   ],
   "source": [
    "a.walk()"
   ]
  },
  {
   "cell_type": "markdown",
   "id": "183f9ce2",
   "metadata": {},
   "source": [
    "### 6: Multiple Inheritance with Additional Attributes\n",
    "\n",
    "In the `Athlete` class, add an attribute `training_hours` and a method `train` that prints the training hours. Create an object of the class and call the method."
   ]
  },
  {
   "cell_type": "code",
   "execution_count": 30,
   "id": "1aee27ac",
   "metadata": {},
   "outputs": [],
   "source": [
    "class Athlete(Walker):\n",
    "    def __init__(self, hr):\n",
    "        self.training_hours = hr\n",
    "    def train(self):\n",
    "        print(f\"{self.training_hours}\")"
   ]
  },
  {
   "cell_type": "code",
   "execution_count": 32,
   "id": "9470039b",
   "metadata": {},
   "outputs": [],
   "source": [
    "a  = Athlete(3)"
   ]
  },
  {
   "cell_type": "markdown",
   "id": "576fe318",
   "metadata": {},
   "source": [
    "### 7: Diamond Problem in Multiple Inheritance\n",
    "\n",
    "Create a class named `A` with a method `show` that prints a message. Create two derived classes `B` and `C` that inherit from `A` and override the `show` method. Create a class `D` that inherits from both `B` and `C`. Create an object of the `D` class and call the `show` method. Observe the method resolution order."
   ]
  },
  {
   "cell_type": "code",
   "execution_count": 33,
   "id": "762f9ca0",
   "metadata": {},
   "outputs": [],
   "source": [
    "class A:\n",
    "    def show(self):\n",
    "        print(\"hello\")\n",
    "class B(A):\n",
    "    def show(self):\n",
    "        print(\"this is b\")"
   ]
  },
  {
   "cell_type": "code",
   "execution_count": 34,
   "id": "4dfe02db",
   "metadata": {},
   "outputs": [],
   "source": [
    "class C(A):\n",
    "    def show(self):\n",
    "        print(\"this is C\")"
   ]
  },
  {
   "cell_type": "code",
   "execution_count": 37,
   "id": "e7135c46",
   "metadata": {},
   "outputs": [],
   "source": [
    "class D(C, B):\n",
    "    pass"
   ]
  },
  {
   "cell_type": "code",
   "execution_count": 38,
   "id": "dcb87a52",
   "metadata": {},
   "outputs": [
    {
     "name": "stdout",
     "output_type": "stream",
     "text": [
      "this is C\n"
     ]
    }
   ],
   "source": [
    "d = D()\n",
    "d.show()"
   ]
  },
  {
   "cell_type": "markdown",
   "id": "2607104e",
   "metadata": {},
   "source": [
    "### 8: Using `super()` in Single Inheritance\n",
    "\n",
    "Create a base class named `Shape` with an attribute `color`. Create a derived class named `Circle` that inherits from `Shape` and adds an attribute `radius`. Use the `super()` function to initialize the attributes. Create an object of the `Circle` class and print its attributes."
   ]
  },
  {
   "cell_type": "code",
   "execution_count": 39,
   "id": "e7d93416",
   "metadata": {},
   "outputs": [],
   "source": [
    "class Shape:\n",
    "    def __init__(self, color):\n",
    "        self.color = color\n",
    "class Circle(Shape):\n",
    "    def __init__(self, color, radius):\n",
    "        super().__init__(color)\n",
    "        self.radius = radius"
   ]
  },
  {
   "cell_type": "markdown",
   "id": "3b2a3229",
   "metadata": {},
   "source": [
    "### 9: Using `super()` in Multiple Inheritance\n",
    "\n",
    "Create a class named `Person` with an attribute `name`. Create a class named `Employee` with an attribute `employee_id`. Create a derived class `Manager` that inherits from both `Person` and `Employee`. Use the `super()` function to initialize the attributes. Create an object of the `Manager` class and print its attributes."
   ]
  },
  {
   "cell_type": "code",
   "execution_count": 42,
   "id": "7f9d65e1",
   "metadata": {},
   "outputs": [],
   "source": [
    "class Person:\n",
    "    def __init__(self, name):\n",
    "        self.name = name\n",
    "class Employee:\n",
    "    def __init__(self, employee_id):\n",
    "        self.employee_id = employee_id"
   ]
  },
  {
   "cell_type": "code",
   "execution_count": 43,
   "id": "5ce3c36c",
   "metadata": {},
   "outputs": [],
   "source": [
    "class Manager(Person, Employee):\n",
    "    def __init__(self, name, employee_id):\n",
    "        super().__init__(name)\n",
    "        Employee().__init__(self, employee_id)"
   ]
  },
  {
   "cell_type": "markdown",
   "id": "984873e8",
   "metadata": {},
   "source": [
    "### 10: Method Overriding and `super()`\n",
    "\n",
    "Create a class named `Vehicle` with a method `start` that prints a starting message. Create a derived class `Car` that overrides the `start` method to print a different message. Use the `super()` function to call the `start` method of the `Vehicle` class. Create an object of the `Car` class and call the `start` method."
   ]
  },
  {
   "cell_type": "code",
   "execution_count": 45,
   "id": "ad888e64",
   "metadata": {},
   "outputs": [],
   "source": [
    "class Vehicle:\n",
    "    def start(self):\n",
    "        print(\"this started\")\n",
    "class Car(Vehicle):\n",
    "    def start(self):\n",
    "        print(\"Car started\")\n",
    "        super().start()"
   ]
  },
  {
   "cell_type": "code",
   "execution_count": 46,
   "id": "4b3a4ac3",
   "metadata": {},
   "outputs": [
    {
     "name": "stdout",
     "output_type": "stream",
     "text": [
      "Car started\n",
      "this started\n"
     ]
    }
   ],
   "source": [
    "a = Car()\n",
    "a.start()"
   ]
  },
  {
   "cell_type": "markdown",
   "id": "05b2e80c",
   "metadata": {},
   "source": [
    "### 11: Multiple Inheritance with Different Methods\n",
    "\n",
    "Create a class named `Flyer` with a method `fly` that prints a flying message. Create a class named `Swimmer` with a method `swim` that prints a swimming message. Create a derived class `Superhero` that inherits from both `Flyer` and `Swimmer`. Create an object of the `Superhero` class and call both methods."
   ]
  },
  {
   "cell_type": "code",
   "execution_count": 47,
   "id": "9d90fb4c",
   "metadata": {},
   "outputs": [],
   "source": [
    "class Flyer:\n",
    "    def fly(self):\n",
    "        print(\"flying message\")\n",
    "class Swimmer:\n",
    "    def swim(self):\n",
    "        print(\"swimming message\")"
   ]
  },
  {
   "cell_type": "code",
   "execution_count": 48,
   "id": "10e1eb4b",
   "metadata": {},
   "outputs": [],
   "source": [
    "class Superhero(Flyer, Swimmer):\n",
    "    pass"
   ]
  },
  {
   "cell_type": "markdown",
   "id": "e30c4100",
   "metadata": {},
   "source": [
    "### 12: Complex Multiple Inheritance\n",
    "\n",
    "Create a class named `Base1` with an attribute `a`. Create a class named `Base2` with an attribute `b`. Create a class named `Derived` that inherits from both `Base1` and `Base2` and adds an attribute `c`. Initialize all attributes using the `super()` function. Create an object of the `Derived` class and print its attributes."
   ]
  },
  {
   "cell_type": "code",
   "execution_count": 49,
   "id": "68da2030",
   "metadata": {},
   "outputs": [],
   "source": [
    "class Base1:\n",
    "    def __init__(self, a):\n",
    "        self.a = a\n",
    "class Base2:\n",
    "    def __init__(self, b):\n",
    "        self.b = b"
   ]
  },
  {
   "cell_type": "code",
   "execution_count": 50,
   "id": "5f72977d",
   "metadata": {},
   "outputs": [],
   "source": [
    "class Derived(Base1, Base2):\n",
    "    def __init__(self, a, b, c):\n",
    "        super().__init__(a)\n",
    "        Base2().__init__(b)\n",
    "        self.c = c"
   ]
  },
  {
   "cell_type": "markdown",
   "id": "27d5c0bc",
   "metadata": {},
   "source": [
    "### 13: Checking Instance Types with Inheritance\n",
    "\n",
    "Create a base class named `Animal` and a derived class named `Cat`. Create objects of both classes and use the `isinstance` function to check the instance types."
   ]
  },
  {
   "cell_type": "code",
   "execution_count": 51,
   "id": "ea9f5cb6",
   "metadata": {},
   "outputs": [],
   "source": [
    "class Animal:\n",
    "    pass\n",
    "class Cat(Animal):\n",
    "    pass"
   ]
  },
  {
   "cell_type": "code",
   "execution_count": 52,
   "id": "bac55908",
   "metadata": {},
   "outputs": [],
   "source": [
    "a = Animal()\n",
    "b = Cat()"
   ]
  },
  {
   "cell_type": "code",
   "execution_count": 56,
   "id": "6ebb846a",
   "metadata": {},
   "outputs": [
    {
     "data": {
      "text/plain": [
       "False"
      ]
     },
     "execution_count": 56,
     "metadata": {},
     "output_type": "execute_result"
    }
   ],
   "source": [
    "isinstance(a, Cat)"
   ]
  },
  {
   "cell_type": "markdown",
   "id": "8090cda9",
   "metadata": {},
   "source": [
    "### 14: Polymorphism with Inheritance\n",
    "\n",
    "Create a base class named `Bird` with a method `speak`. Create two derived classes `Parrot` and `Penguin` that override the `speak` method. Create a list of `Bird` objects and call the `speak` method on each object to demonstrate polymorphism."
   ]
  },
  {
   "cell_type": "code",
   "execution_count": 58,
   "id": "dda039f6",
   "metadata": {},
   "outputs": [],
   "source": [
    "class Bird:\n",
    "    def speak(self):\n",
    "        pass\n",
    "class Parrot(Bird):\n",
    "    def speak(self):\n",
    "        print(\"Que Que\")\n",
    "class Penguin(Bird):\n",
    "    def speak(self):\n",
    "        print(\"pek pek\")"
   ]
  },
  {
   "cell_type": "markdown",
   "id": "7b979875",
   "metadata": {},
   "source": [
    "### 15: Combining Single and Multiple Inheritance\n",
    "\n",
    "Create a base class named `Device` with an attribute `brand`. Create a derived class `Phone` that inherits from `Device` and adds an attribute `model`. Create another base class `Camera` with an attribute `resolution`. Create a derived class `Smartphone` that inherits from both `Phone` and `Camera`. Create an object of the `Smartphone` class and print its attributes."
   ]
  },
  {
   "cell_type": "code",
   "execution_count": null,
   "id": "8e8a4ff2",
   "metadata": {},
   "outputs": [],
   "source": []
  }
 ],
 "metadata": {
  "kernelspec": {
   "display_name": "pythonPractiveEnv",
   "language": "python",
   "name": "python3"
  },
  "language_info": {
   "codemirror_mode": {
    "name": "ipython",
    "version": 3
   },
   "file_extension": ".py",
   "mimetype": "text/x-python",
   "name": "python",
   "nbconvert_exporter": "python",
   "pygments_lexer": "ipython3",
   "version": "3.10.12"
  }
 },
 "nbformat": 4,
 "nbformat_minor": 5
}
