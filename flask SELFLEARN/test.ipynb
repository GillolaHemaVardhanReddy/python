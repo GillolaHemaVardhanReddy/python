{
 "cells": [
  {
   "cell_type": "code",
   "execution_count": 1,
   "metadata": {},
   "outputs": [],
   "source": [
    "import flask as Flask"
   ]
  },
  {
   "cell_type": "markdown",
   "metadata": {},
   "source": [
    "| Concept         | **Express.js (Node)**                            | **Flask (Python)**                                        | Notes                                                      |\n",
    "| --------------- | ------------------------------------------------ | --------------------------------------------------------- | ---------------------------------------------------------- |\n",
    "| Create app      | `const app = express();`                         | `app = Flask(__name__)`                                   | `Flask` is like `express()` — it creates the app instance. |\n",
    "| Define route    | `app.get('/', (req, res)=>{ res.send('Hi'); });` | `@app.get('/')`<br>`def home(): return 'Hi'`              | Both map URL → function.                                   |\n",
    "| Listen to port  | `app.listen(3000)`                               | `app.run(port=3000)`                                      | Flask’s built-in dev server is like Express’s `.listen()`. |\n",
    "| Request object  | `req.query`, `req.params`, `req.body`            | `request.args`, `request.view_args`, `request.get_json()` | Same roles.                                                |\n",
    "| Response object | `res.json({msg:\"ok\"})`                           | `return jsonify(msg=\"ok\")`                                | `jsonify()` handles JSON + content-type.                   |\n",
    "| Middleware      | `app.use(middleware)`                            | `@app.before_request` / custom wrappers                   | Flask has decorators instead of `.use()`.                  |\n",
    "| Router          | `express.Router()`                               | `Blueprint('name', __name__)`                             | Blueprints = modular routers.                              |\n",
    "| Static files    | `app.use(express.static('public'))`              | `app = Flask(__name__, static_folder='public')`           | Almost identical idea.                                     |\n",
    "| Env/config      | `process.env.NODE_ENV` / `.env`                  | `app.config.from_envvar()` or `.from_pyfile()`            | Same role, different syntax.                               |\n",
    "| JSON errors     | `res.status(400).json({...})`                    | `abort(400, description=\"...\")` → handled via JSON        | You can define custom handlers like in Express.            |\n"
   ]
  },
  {
   "cell_type": "code",
   "execution_count": null,
   "metadata": {},
   "outputs": [],
   "source": []
  }
 ],
 "metadata": {
  "kernelspec": {
   "display_name": "pythonPractiveEnv",
   "language": "python",
   "name": "python3"
  },
  "language_info": {
   "codemirror_mode": {
    "name": "ipython",
    "version": 3
   },
   "file_extension": ".py",
   "mimetype": "text/x-python",
   "name": "python",
   "nbconvert_exporter": "python",
   "pygments_lexer": "ipython3",
   "version": "3.10.12"
  }
 },
 "nbformat": 4,
 "nbformat_minor": 2
}
