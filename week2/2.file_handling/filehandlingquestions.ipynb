{
 "cells": [
  {
   "cell_type": "markdown",
   "metadata": {},
   "source": [
    "# Module: File Handling Assignments\n",
    "## Lesson: File Handling and Operations\n",
    "### Assignment 1: Reading a File\n",
    "\n",
    "Write a function that reads the contents of a file named `sample.txt` and prints each line.\n",
    "\n",
    "### Assignment 2: Writing to a File\n",
    "\n",
    "Write a function that writes a list of strings to a file named `output.txt`, with each string on a new line.\n",
    "\n",
    "### Assignment 3: Copying a File\n",
    "\n",
    "Write a function that copies the contents of a file named `source.txt` to a new file named `destination.txt`.\n",
    "\n",
    "### Assignment 4: Appending to a File\n",
    "\n",
    "Write a function that appends a given string to the end of a file named `log.txt`.\n",
    "\n",
    "### Assignment 5: Counting Words in a File\n",
    "\n",
    "Write a function that reads the contents of a file named `document.txt` and returns the number of words in the file.\n",
    "\n",
    "### Assignment 6: Finding and Replacing Text\n",
    "\n",
    "Write a function that finds and replaces all occurrences of a given word in a file named `data.txt` with another word.\n",
    "\n",
    "### Assignment 7: Reading a File in Reverse\n",
    "\n",
    "Write a function that reads the contents of a file named `reverse.txt` and prints each line in reverse order.\n",
    "\n",
    "### Assignment 8: Counting Lines, Words, and Characters\n",
    "\n",
    "Write a function that reads the contents of a file named `stats.txt` and returns the number of lines, words, and characters in the file.\n",
    "\n",
    "### Assignment 9: Merging Multiple Files\n",
    "\n",
    "Write a function that merges the contents of multiple files into a single file named `merged.txt`.\n",
    "\n",
    "### Assignment 10: Splitting a Large File\n",
    "\n",
    "Write a function that splits a large file named `large.txt` into smaller files of 100 lines each.\n",
    "\n",
    "### Assignment 11: Creating a Log File\n",
    "\n",
    "Write a function that creates a log file named `activity.log` and writes log messages with timestamps.\n",
    "\n",
    "### Assignment 12: Binary File Operations\n",
    "\n",
    "Write a function that reads a binary file named `image.bin` and writes its contents to another binary file named `copy_image.bin`.\n",
    "\n",
    "### Assignment 13: CSV File Operations\n",
    "\n",
    "Write a function that reads a CSV file named `data.csv` and prints its contents as a list of dictionaries.\n",
    "\n",
    "### Assignment 14: JSON File Operations\n",
    "\n",
    "Write a function that reads a JSON file named `data.json` and prints its contents as a Python dictionary.\n",
    "\n",
    "### Assignment 15: File Permission Handling\n",
    "\n",
    "Write a function that attempts to read a file named `protected.txt` and handles any permission errors gracefully by printing an error message."
   ]
  },
  {
   "cell_type": "markdown",
   "id": "2bf0524b",
   "metadata": {},
   "source": [
    "### 1: Reading a File\n",
    "\n",
    "Write a function that reads the contents of a file named `sample.txt` and prints each line.\n"
   ]
  },
  {
   "cell_type": "code",
   "execution_count": 6,
   "metadata": {},
   "outputs": [
    {
     "name": "stdout",
     "output_type": "stream",
     "text": [
      "hello i am a hero\n",
      "i am a villan 2\n"
     ]
    }
   ],
   "source": [
    "try:\n",
    "    with open('sample.txt', 'w+') as file:\n",
    "        file.write(\"hello i am a hero\\ni am a villan\")\n",
    "        file.seek(0)\n",
    "        content = file.read()\n",
    "        print(content, len(content.split('\\n')))\n",
    "except FileNotFoundError as e:\n",
    "    print(f\"hey you got the error: {e}\")"
   ]
  },
  {
   "cell_type": "markdown",
   "id": "59b2b0c2",
   "metadata": {},
   "source": [
    "### 2: Writing to a File\n",
    "\n",
    "Write a function that writes a list of strings to a file named `output.txt`, with each string on a new line.\n"
   ]
  },
  {
   "cell_type": "code",
   "execution_count": 17,
   "id": "87da4d97",
   "metadata": {},
   "outputs": [],
   "source": [
    "def write_to_output(s):\n",
    "    with open('output.txt', 'a+') as file:\n",
    "        content = file.read()\n",
    "        file.seek(len(content))\n",
    "        file.write(s+'\\n')"
   ]
  },
  {
   "cell_type": "markdown",
   "id": "8517488d",
   "metadata": {},
   "source": [
    "| Mode       | What it does                                                   |\n",
    "| ---------- | -------------------------------------------------------------- |\n",
    "| `w` / `w+` | **Truncates file** to zero length; starts writing at beginning |\n",
    "| `a` / `a+` | **Appends** to the end; keeps existing content                 |\n"
   ]
  },
  {
   "cell_type": "code",
   "execution_count": 19,
   "id": "fb21f046",
   "metadata": {},
   "outputs": [],
   "source": [
    "write_to_output(\"how r uh\")"
   ]
  },
  {
   "cell_type": "markdown",
   "id": "84365c81",
   "metadata": {},
   "source": [
    "### 3: Copying a File\n",
    "\n",
    "Write a function that copies the contents of a file named `source.txt` to a new file named `destination.txt`.\n"
   ]
  },
  {
   "cell_type": "code",
   "execution_count": 22,
   "id": "ccbfc1c0",
   "metadata": {},
   "outputs": [],
   "source": [
    "def copy_file_from(s):\n",
    "    def to(d):\n",
    "        content = \"\"\n",
    "        with open(s, 'r') as file1:\n",
    "            with open(d, 'w') as file2:\n",
    "                file2.write(file1.read())\n",
    "    return to\n",
    "copy_file_from('output.txt')('desination.txt')"
   ]
  },
  {
   "cell_type": "markdown",
   "id": "a66ecc92",
   "metadata": {},
   "source": [
    "### 4: Appending to a File\n",
    "\n",
    "Write a function that appends a given string to the end of a file named `log.txt`.\n"
   ]
  },
  {
   "cell_type": "code",
   "execution_count": 25,
   "id": "a16f260b",
   "metadata": {},
   "outputs": [],
   "source": [
    "def append_to_output(s):\n",
    "    with open('output.txt', 'a') as file:\n",
    "        file.write(s+'\\n')"
   ]
  },
  {
   "cell_type": "code",
   "execution_count": 26,
   "id": "6839120e",
   "metadata": {},
   "outputs": [],
   "source": [
    "append_to_output(\"hey\")"
   ]
  },
  {
   "cell_type": "markdown",
   "id": "ab238a4e",
   "metadata": {},
   "source": [
    "### 5: Counting Words in a File\n",
    "\n",
    "Write a function that reads the contents of a file named `document.txt` and returns the number of words in the file.\n"
   ]
  },
  {
   "cell_type": "code",
   "execution_count": 55,
   "id": "6cc4c8fc",
   "metadata": {},
   "outputs": [],
   "source": [
    "def read_from_output():\n",
    "    with open('output.txt', 'r') as file:\n",
    "        content = file.read()\n",
    "        words = content.split()  # splits on any whitespace\n",
    "        word_count = len(words)\n",
    "        print(word_count)"
   ]
  },
  {
   "cell_type": "code",
   "execution_count": 56,
   "id": "758172ca",
   "metadata": {},
   "outputs": [
    {
     "name": "stdout",
     "output_type": "stream",
     "text": [
      "10\n"
     ]
    }
   ],
   "source": [
    "read_from_output()"
   ]
  },
  {
   "cell_type": "markdown",
   "id": "61d8370c",
   "metadata": {},
   "source": [
    "### 6: Finding and Replacing Text\n",
    "\n",
    "Write a function that finds and replaces all occurrences of a given word in a file named `data.txt` with another word.\n"
   ]
  },
  {
   "cell_type": "code",
   "execution_count": 84,
   "id": "67f9bf88",
   "metadata": {},
   "outputs": [],
   "source": [
    "def replace_in_output(s, rep):\n",
    "    with open('output.txt', 'r+') as file:\n",
    "        content = file.read()\n",
    "        if(s in content):\n",
    "            new_content = content.replace(s, rep)\n",
    "            file.seek(0)\n",
    "            file.write(new_content)"
   ]
  },
  {
   "cell_type": "code",
   "execution_count": 85,
   "id": "77375ee4",
   "metadata": {},
   "outputs": [],
   "source": [
    "x = \"hi hi hello hi\"\n",
    "y = x.replace('hi', 'hey')"
   ]
  },
  {
   "cell_type": "code",
   "execution_count": 86,
   "id": "e38fea5a",
   "metadata": {},
   "outputs": [
    {
     "name": "stdout",
     "output_type": "stream",
     "text": [
      "hey hey hello hey\n"
     ]
    }
   ],
   "source": [
    "print(y)"
   ]
  },
  {
   "cell_type": "code",
   "execution_count": 87,
   "id": "222cb80f",
   "metadata": {},
   "outputs": [],
   "source": [
    "replace_in_output('how', 'hey')"
   ]
  },
  {
   "cell_type": "markdown",
   "id": "487f9b49",
   "metadata": {},
   "source": [
    "### 7: Reading a File in Reverse\n",
    "\n",
    "Write a function that reads the contents of a file named `reverse.txt` and prints each line in reverse order.\n"
   ]
  },
  {
   "cell_type": "code",
   "execution_count": 102,
   "id": "78d6225a",
   "metadata": {},
   "outputs": [],
   "source": [
    "def reverse_output():\n",
    "    with open('output.txt', 'r') as file:\n",
    "        content = file.read().split('\\n')\n",
    "        for line in content:\n",
    "            reverseList = line.split(\" \")\n",
    "            reverseList.reverse()\n",
    "            print(\" \".join(reverseList))\n"
   ]
  },
  {
   "cell_type": "code",
   "execution_count": 103,
   "id": "86ae9712",
   "metadata": {},
   "outputs": [
    {
     "name": "stdout",
     "output_type": "stream",
     "text": [
      "uh r hey\n",
      "uh r hey\n",
      "uh r hey\n",
      "hey\n"
     ]
    }
   ],
   "source": [
    "reverse_output()"
   ]
  },
  {
   "cell_type": "markdown",
   "id": "59dabdb0",
   "metadata": {},
   "source": [
    "### 8: Counting Lines, Words, and Characters\n",
    "\n",
    "Write a function that reads the contents of a file named `stats.txt` and returns the number of lines, words, and characters in the file.\n"
   ]
  },
  {
   "cell_type": "code",
   "execution_count": 104,
   "id": "9aae4bf5",
   "metadata": {},
   "outputs": [],
   "source": [
    "def read_from_output():\n",
    "    with open('output.txt', 'r') as file:\n",
    "        content = file.read()\n",
    "        lines = content.split('\\n')  # splits on any whitespace\n",
    "        print(len(lines))\n",
    "        words = content.split()\n",
    "        word_count = len(words)\n",
    "        print(word_count)\n",
    "        print(len(content))"
   ]
  },
  {
   "cell_type": "code",
   "execution_count": 105,
   "id": "e15865e2",
   "metadata": {},
   "outputs": [
    {
     "name": "stdout",
     "output_type": "stream",
     "text": [
      "4\n",
      "10\n",
      "30\n"
     ]
    }
   ],
   "source": [
    "read_from_output()"
   ]
  },
  {
   "cell_type": "markdown",
   "id": "47ff51ac",
   "metadata": {},
   "source": [
    "### 9: Merging Multiple Files\n",
    "\n",
    "Write a function that merges the contents of multiple files into a single file named `merged.txt`.\n"
   ]
  },
  {
   "cell_type": "code",
   "execution_count": 106,
   "id": "543e915a",
   "metadata": {},
   "outputs": [],
   "source": [
    "def merge_files(file_list, output_file):\n",
    "    with open(output_file, 'w') as outfile:\n",
    "        for fname in file_list:\n",
    "            with open(fname, 'r') as infile:\n",
    "                outfile.write(infile.read() + '\\n')"
   ]
  },
  {
   "cell_type": "markdown",
   "id": "a39b8530",
   "metadata": {},
   "source": [
    "### 10: Splitting a Large File\n",
    "\n",
    "Write a function that splits a large file named `large.txt` into smaller files of 100 lines each.\n"
   ]
  },
  {
   "cell_type": "code",
   "execution_count": 129,
   "id": "07896eeb",
   "metadata": {},
   "outputs": [],
   "source": [
    "def merge_files():\n",
    "    with open('output.txt', 'r') as file:\n",
    "        content = file.read().split('\\n')\n",
    "        no_of_files_needed = len(content)//100\n",
    "        if(len(content)%100 > 0):\n",
    "            no_of_files_needed += 1\n",
    "        start = 0\n",
    "        end = 100\n",
    "        for i in range(1, no_of_files_needed+1):\n",
    "            print(start, end)\n",
    "            with open('merge_file_'+str(i)+'.txt', 'w') as file1:\n",
    "                for j in range(start, end):\n",
    "                    file1.write(content[j]+'\\n')\n",
    "            start = end\n",
    "            end = start + 99\n",
    "            if(end > len(content)):\n",
    "                end = start + len(content)%100"
   ]
  },
  {
   "cell_type": "code",
   "execution_count": 130,
   "id": "c4920709",
   "metadata": {},
   "outputs": [
    {
     "name": "stdout",
     "output_type": "stream",
     "text": [
      "0 100\n",
      "100 199\n",
      "199 298\n",
      "298 335\n"
     ]
    }
   ],
   "source": [
    "merge_files()"
   ]
  },
  {
   "cell_type": "markdown",
   "id": "b143a51b",
   "metadata": {},
   "source": [
    "### 11: Creating a Log File\n",
    "\n",
    "Write a function that creates a log file named `activity.log` and writes log messages with timestamps.\n"
   ]
  },
  {
   "cell_type": "code",
   "execution_count": 140,
   "id": "3865d7a9",
   "metadata": {},
   "outputs": [],
   "source": [
    "import datetime\n",
    "def log_activity(file_name, log):\n",
    "    with open(file_name, 'r+') as file:\n",
    "        content = file.read()\n",
    "        file.seek(len(content))\n",
    "        time_stamp = datetime.datetime.now().strftime(\"%Y-%m-%d %H:%M:%S\")\n",
    "        file.write(str(time_stamp) + \" : \" + log + '\\n')"
   ]
  },
  {
   "cell_type": "code",
   "execution_count": 141,
   "id": "7be64ef9",
   "metadata": {},
   "outputs": [],
   "source": [
    "log_activity('output.txt', 'this is my first log')"
   ]
  },
  {
   "cell_type": "markdown",
   "id": "252df4f4",
   "metadata": {},
   "source": [
    "### 12: Binary File Operations\n",
    "\n",
    "Write a function that reads a binary file named `image.bin` and writes its contents to another binary file named `copy_image.bin`."
   ]
  },
  {
   "cell_type": "code",
   "execution_count": 144,
   "id": "9c130f7a",
   "metadata": {},
   "outputs": [],
   "source": [
    "import datetime\n",
    "def copy_binary(source, destination):\n",
    "    with open(source, 'rb') as f1:\n",
    "        with open(destination, 'rb+') as f2:\n",
    "            f2.seek(len(f2.read()))\n",
    "            content = f1.read()\n",
    "            f2.write(content)\n",
    "copy_binary('image.bin', 'copy_image.bin')"
   ]
  },
  {
   "cell_type": "markdown",
   "id": "f35b961d",
   "metadata": {},
   "source": [
    "### 13: CSV File Operations\n",
    "\n",
    "Write a function that reads a CSV file named `data.csv` and prints its contents as a list of dictionaries."
   ]
  },
  {
   "cell_type": "code",
   "execution_count": 149,
   "id": "466947e1",
   "metadata": {},
   "outputs": [
    {
     "data": {
      "text/plain": [
       "[{'place': 'dehradun', ' number': ' 2'},\n",
       " {'place': 'hyderabad', ' number': ' 3'},\n",
       " {'place': 'kammam', ' number': ' 4'}]"
      ]
     },
     "execution_count": 149,
     "metadata": {},
     "output_type": "execute_result"
    }
   ],
   "source": [
    "import csv\n",
    "\n",
    "def read_csv_as_dicts(filename):\n",
    "    with open(filename, 'r') as file:\n",
    "        reader = csv.DictReader(file)\n",
    "        return list(reader)\n",
    "\n",
    "read_csv_as_dicts('data.csv')"
   ]
  },
  {
   "cell_type": "markdown",
   "id": "062db304",
   "metadata": {},
   "source": [
    "### 14: JSON File Operations\n",
    "\n",
    "Write a function that reads a JSON file named `data.json` and prints its contents as a Python dictionary."
   ]
  },
  {
   "cell_type": "code",
   "execution_count": 151,
   "id": "2a9cd73a",
   "metadata": {},
   "outputs": [
    {
     "data": {
      "text/plain": [
       "{'hello': 3, 'hey': 4}"
      ]
     },
     "execution_count": 151,
     "metadata": {},
     "output_type": "execute_result"
    }
   ],
   "source": [
    "import json\n",
    "json.loads('{\"hello\": 3, \"hey\": 4}')"
   ]
  },
  {
   "cell_type": "code",
   "execution_count": 152,
   "id": "ccfd64b2",
   "metadata": {},
   "outputs": [
    {
     "data": {
      "text/plain": [
       "'{\"hello\": 3, \"man\": 4}'"
      ]
     },
     "execution_count": 152,
     "metadata": {},
     "output_type": "execute_result"
    }
   ],
   "source": [
    "json.dumps({\"hello\": 3, \"man\": 4})"
   ]
  },
  {
   "cell_type": "code",
   "execution_count": null,
   "id": "c67863a4",
   "metadata": {},
   "outputs": [],
   "source": []
  }
 ],
 "metadata": {
  "kernelspec": {
   "display_name": "pythonPractiveEnv",
   "language": "python",
   "name": "python3"
  },
  "language_info": {
   "codemirror_mode": {
    "name": "ipython",
    "version": 3
   },
   "file_extension": ".py",
   "mimetype": "text/x-python",
   "name": "python",
   "nbconvert_exporter": "python",
   "pygments_lexer": "ipython3",
   "version": "3.10.12"
  }
 },
 "nbformat": 4,
 "nbformat_minor": 5
}
