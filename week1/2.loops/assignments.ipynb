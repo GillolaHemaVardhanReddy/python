{
 "cells": [
  {
   "cell_type": "markdown",
   "id": "a0f84864",
   "metadata": {},
   "source": [
    "# Module 2: Control Flow Assignments\n",
    "## Lesson 2.1: Conditional Statements\n",
    "### Assignment 1: Simple if Statement\n",
    "\n",
    "Write a program that asks the user to input a number and prints whether the number is positive.\n",
    "\n",
    "### Assignment 2: if-else Statement\n",
    "\n",
    "Write a program that asks the user to input a number and prints whether the number is positive or negative.\n",
    "\n",
    "### Assignment 3: if-elif-else Statement\n",
    "\n",
    "Write a program that asks the user to input a number and prints whether the number is positive, negative, or zero.\n",
    "\n",
    "### Assignment 4: Nested if Statement\n",
    "\n",
    "Write a program that asks the user to input a number and prints whether the number is positive and even, positive and odd, or negative.\n",
    "\n",
    "## Lesson 2.2: Loops\n",
    "### Assignment 5: for Loop\n",
    "\n",
    "Write a program that prints all the numbers from 1 to 10 using a for loop.\n",
    "\n",
    "### Assignment 6: while Loop\n",
    "\n",
    "Write a program that prints all the numbers from 1 to 10 using a while loop.\n",
    "\n",
    "### Assignment 7: Nested Loops\n",
    "\n",
    "Write a program that prints a 5x5 grid of asterisks (*) using nested loops.\n",
    "\n",
    "### Assignment 8: break Statement\n",
    "\n",
    "Write a program that asks the user to input numbers until they input 0. The program should print the sum of all the input numbers.\n",
    "\n",
    "### Assignment 9: continue Statement\n",
    "\n",
    "Write a program that prints all the numbers from 1 to 10 except 5 using a for loop and continue statement.\n",
    "\n",
    "### Assignment 10: pass Statement\n",
    "\n",
    "Write a program that defines an empty function using the pass statement.\n",
    "\n",
    "### Assignment 11: Combining Loops and Conditionals\n",
    "\n",
    "Write a program that asks the user to input a number and prints all the even numbers from 1 to that number using a for loop.\n",
    "\n",
    "### Assignment 12: Factorial Calculation\n",
    "\n",
    "Write a program that calculates the factorial of a number input by the user using a while loop.\n",
    "\n",
    "### Assignment 13: Sum of Digits\n",
    "\n",
    "Write a program that calculates the sum of the digits of a number input by the user using a while loop.\n",
    "\n",
    "### Assignment 14: Prime Number Check\n",
    "\n",
    "Write a program that checks if a number input by the user is a prime number using a for loop.\n",
    "\n",
    "### Assignment 15: Fibonacci Sequence\n",
    "\n",
    "Write a program that prints the first n Fibonacci numbers, where n is input by the user."
   ]
  },
  {
   "cell_type": "code",
   "execution_count": null,
   "id": "9b6434e2",
   "metadata": {},
   "outputs": [
    {
     "name": "stdout",
     "output_type": "stream",
     "text": [
      "positive number\n"
     ]
    }
   ],
   "source": [
    "# 1st qestion\n",
    "x = int(input(\"enter a number: \"))\n",
    "if(x>=0):\n",
    "    print(\"positive number\")"
   ]
  },
  {
   "cell_type": "code",
   "execution_count": null,
   "id": "eac0dba6",
   "metadata": {},
   "outputs": [
    {
     "name": "stdout",
     "output_type": "stream",
     "text": [
      "negative number\n"
     ]
    }
   ],
   "source": [
    "# 2nd qestion\n",
    "x = int(input(\"enter a number: \"))\n",
    "if(x>0):\n",
    "    print(\"positive number\")\n",
    "else:\n",
    "    print(\"negative number\")"
   ]
  },
  {
   "cell_type": "code",
   "execution_count": null,
   "id": "81a03723",
   "metadata": {},
   "outputs": [
    {
     "name": "stdout",
     "output_type": "stream",
     "text": [
      "negative number\n"
     ]
    }
   ],
   "source": [
    "# 3nd qestion\n",
    "x = int(input(\"enter a number: \"))\n",
    "if(x>0):\n",
    "    print(\"positive number\")\n",
    "elif(x<0):\n",
    "    print(\"negative number\")\n",
    "else:\n",
    "    print(\"x is zero\")"
   ]
  },
  {
   "cell_type": "code",
   "execution_count": null,
   "id": "87bbfecf",
   "metadata": {},
   "outputs": [
    {
     "name": "stdout",
     "output_type": "stream",
     "text": [
      "positive and \n",
      "even\n"
     ]
    }
   ],
   "source": [
    "# 4th qestion\n",
    "x = int(input(\"enter a number: \"))\n",
    "if(x>0):\n",
    "    print(\"positive and \")\n",
    "    if(x&1):\n",
    "        print(\"odd\")\n",
    "    else:\n",
    "        print(\"even\")\n",
    "elif(x<0):\n",
    "    print(\"negative and \")\n",
    "    if(x&1):\n",
    "        print(\"odd\")\n",
    "    else:\n",
    "        print(\"even\")\n",
    "else:\n",
    "    print(\"x is zero\")"
   ]
  },
  {
   "cell_type": "code",
   "execution_count": null,
   "id": "96e4a1f3",
   "metadata": {},
   "outputs": [
    {
     "name": "stdout",
     "output_type": "stream",
     "text": [
      "1\n",
      "2\n",
      "3\n",
      "4\n",
      "5\n",
      "6\n",
      "7\n",
      "8\n",
      "9\n",
      "10\n"
     ]
    }
   ],
   "source": [
    "#5th question\n",
    "x = int(input(\"enter a number: \"))\n",
    "for i in range(1, x+1):\n",
    "    print(i)"
   ]
  },
  {
   "cell_type": "code",
   "execution_count": 15,
   "id": "03d9821f",
   "metadata": {},
   "outputs": [
    {
     "name": "stdout",
     "output_type": "stream",
     "text": [
      "1\n",
      "2\n",
      "3\n",
      "4\n",
      "5\n",
      "6\n",
      "7\n",
      "8\n",
      "9\n",
      "10\n"
     ]
    }
   ],
   "source": [
    "# 6th question\n",
    "x = int(input(\"enter a number: \"))\n",
    "i = 1\n",
    "while(i <= x):\n",
    "    print(i)\n",
    "    i+=1"
   ]
  },
  {
   "cell_type": "code",
   "execution_count": 20,
   "id": "cfae71d1",
   "metadata": {},
   "outputs": [
    {
     "name": "stdout",
     "output_type": "stream",
     "text": [
      "* * \n",
      "* * \n"
     ]
    }
   ],
   "source": [
    "# 7th question\n",
    "x = int(input(\"enter a number: \"))\n",
    "i = 1\n",
    "j = 1\n",
    "while(i <= x):\n",
    "    j = 1\n",
    "    while(j <= x):\n",
    "        print(\"*\", end=\" \")\n",
    "        j+=1\n",
    "    print(\"\")\n",
    "    i+=1"
   ]
  },
  {
   "cell_type": "code",
   "execution_count": 23,
   "id": "d2703c89",
   "metadata": {},
   "outputs": [
    {
     "name": "stdout",
     "output_type": "stream",
     "text": [
      "2\n"
     ]
    }
   ],
   "source": [
    "# 8th question\n",
    "\n",
    "i = 1\n",
    "sum = 0\n",
    "while(i):\n",
    "    x = int(input(\"enter a number: \"))\n",
    "    sum+=x\n",
    "    if(x==0):\n",
    "        break\n",
    "print(sum)"
   ]
  },
  {
   "cell_type": "code",
   "execution_count": 25,
   "id": "536528c5",
   "metadata": {},
   "outputs": [
    {
     "name": "stdout",
     "output_type": "stream",
     "text": [
      "0\n",
      "1\n",
      "2\n",
      "3\n",
      "4\n",
      "6\n",
      "7\n",
      "8\n",
      "9\n",
      "2\n"
     ]
    }
   ],
   "source": [
    "# 9th question\n",
    "\n",
    "i = 1\n",
    "for i in range(10):\n",
    "    if(i==5):\n",
    "        continue\n",
    "    print(i)\n",
    "print(sum)"
   ]
  },
  {
   "cell_type": "code",
   "execution_count": 31,
   "id": "ce36178a",
   "metadata": {},
   "outputs": [
    {
     "name": "stdout",
     "output_type": "stream",
     "text": [
      "None\n"
     ]
    }
   ],
   "source": [
    "# 10th question\n",
    "\n",
    "def sum(x):\n",
    "    pass\n",
    "print(sum(3))"
   ]
  },
  {
   "cell_type": "code",
   "execution_count": 69,
   "id": "982ec8b9",
   "metadata": {},
   "outputs": [
    {
     "name": "stdout",
     "output_type": "stream",
     "text": [
      "1\n"
     ]
    }
   ],
   "source": [
    "# 11th question\n",
    "\n",
    "i = 1\n",
    "sum = 0\n",
    "x = int(input(\"enter a number: \"))\n",
    "while(i<=x):\n",
    "    if(i&1):\n",
    "        print(i)\n",
    "    i+=1"
   ]
  },
  {
   "cell_type": "code",
   "execution_count": 36,
   "id": "6fa1b5bb",
   "metadata": {},
   "outputs": [
    {
     "name": "stdout",
     "output_type": "stream",
     "text": [
      "6\n"
     ]
    }
   ],
   "source": [
    "# 12th question \n",
    "i = 1\n",
    "sum = 1\n",
    "x = int(input(\"enter a number: \"))\n",
    "for i in range(1, x+1):\n",
    "    sum = sum * i\n",
    "print(sum)"
   ]
  },
  {
   "cell_type": "code",
   "execution_count": 43,
   "id": "f2ff534b",
   "metadata": {},
   "outputs": [
    {
     "name": "stdout",
     "output_type": "stream",
     "text": [
      "2\n"
     ]
    }
   ],
   "source": [
    "# 13th question \n",
    "sum = 0\n",
    "x = int(input(\"enter a number: \"))\n",
    "while(x):\n",
    "    sum = sum + x%10\n",
    "    x = x//10\n",
    "print(sum)"
   ]
  },
  {
   "cell_type": "code",
   "execution_count": 63,
   "id": "1d981f8f",
   "metadata": {},
   "outputs": [
    {
     "name": "stdout",
     "output_type": "stream",
     "text": [
      "it is a prime number\n"
     ]
    }
   ],
   "source": [
    "# 14th question\n",
    "i = 2\n",
    "x = int(input(\"enter a number: \"))\n",
    "flag = 1\n",
    "if(x==1):\n",
    "    flag = 0\n",
    "while(i <= x//2):\n",
    "    if(x % i == 0):\n",
    "        flag = 0\n",
    "        break\n",
    "    i+=1\n",
    "if(flag):\n",
    "    print(\"it is a prime number\")\n",
    "else:\n",
    "    print(\"it is not a prime number\")"
   ]
  },
  {
   "cell_type": "code",
   "execution_count": 68,
   "id": "f51ee916",
   "metadata": {},
   "outputs": [
    {
     "name": "stdout",
     "output_type": "stream",
     "text": [
      "0 1 1 2 3 5 8 13 21 34 "
     ]
    }
   ],
   "source": [
    "i = 0\n",
    "j = 1\n",
    "x = int(input(\"enter a number: \"))\n",
    "count = 1\n",
    "while(count <= x):\n",
    "    print(i, end=\" \")\n",
    "    count+=1\n",
    "    temp = j\n",
    "    j = i+j\n",
    "    i = temp"
   ]
  }
 ],
 "metadata": {
  "kernelspec": {
   "display_name": "pythonPractiveEnv",
   "language": "python",
   "name": "python3"
  },
  "language_info": {
   "codemirror_mode": {
    "name": "ipython",
    "version": 3
   },
   "file_extension": ".py",
   "mimetype": "text/x-python",
   "name": "python",
   "nbconvert_exporter": "python",
   "pygments_lexer": "ipython3",
   "version": "3.10.12"
  }
 },
 "nbformat": 4,
 "nbformat_minor": 5
}
