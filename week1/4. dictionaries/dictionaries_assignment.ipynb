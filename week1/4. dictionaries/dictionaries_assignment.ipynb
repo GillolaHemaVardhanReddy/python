{
 "cells": [
  {
   "cell_type": "markdown",
   "metadata": {},
   "source": [
    "# Module 3: Data Structures Assignments\n",
    "## Lesson 3.4: Dictionaries\n",
    "### Assignment 1: Creating and Accessing Dictionaries\n",
    "\n",
    "Create a dictionary with the first 10 positive integers as keys and their squares as values. Print the dictionary.\n",
    "\n",
    "### Assignment 2: Accessing Dictionary Elements\n",
    "\n",
    "Print the value of the key 5 and the keys of the dictionary created in Assignment 1.\n",
    "\n",
    "### Assignment 3: Dictionary Methods\n",
    "\n",
    "Add a new key-value pair (11, 121) to the dictionary created in Assignment 1 and then remove the key-value pair with key 1. Print the modified dictionary.\n",
    "\n",
    "### Assignment 4: Iterating Over Dictionaries\n",
    "\n",
    "Iterate over the dictionary created in Assignment 1 and print each key-value pair.\n",
    "\n",
    "### Assignment 5: Dictionary Comprehensions\n",
    "\n",
    "Create a new dictionary containing the cubes of the first 10 positive integers using a dictionary comprehension. Print the new dictionary.\n",
    "\n",
    "### Assignment 6: Merging Dictionaries\n",
    "\n",
    "Create two dictionaries: one with keys as the first 5 positive integers and values as their squares, and another with keys as the next 5 positive integers and values as their squares. Merge these dictionaries into a single dictionary and print it.\n",
    "\n",
    "### Assignment 7: Nested Dictionaries\n",
    "\n",
    "Create a nested dictionary representing a student with keys 'name', 'age', 'grades', where 'grades' is another dictionary with keys 'math', 'science', and 'english'. Print the nested dictionary.\n",
    "\n",
    "### Assignment 8: Dictionary of Lists\n",
    "\n",
    "Create a dictionary where the keys are the first 5 positive integers and the values are lists containing the first 5 multiples of the key. Print the dictionary.\n",
    "\n",
    "### Assignment 9: Dictionary of Tuples\n",
    "\n",
    "Create a dictionary where the keys are the first 5 positive integers and the values are tuples containing the key and its square. Print the dictionary.\n",
    "\n",
    "### Assignment 10: Dictionary and List Conversion\n",
    "\n",
    "Create a dictionary with the first 5 positive integers as keys and their squares as values. Convert the dictionary to a list of tuples and print it.\n",
    "\n",
    "### Assignment 11: Dictionary Filtering\n",
    "\n",
    "Create a dictionary with the first 10 positive integers as keys and their squares as values. Create a new dictionary containing only the key-value pairs where the key is even. Print the new dictionary.\n",
    "\n",
    "### Assignment 12: Dictionary Key and Value Transformation\n",
    "\n",
    "Create a dictionary with the first 5 positive integers as keys and their squares as values. Create a new dictionary with keys and values swapped. Print the new dictionary.\n",
    "\n",
    "### Assignment 13: Default Dictionary\n",
    "\n",
    "Create a default dictionary where each key has a default value of an empty list. Add some elements to the lists and print the dictionary.\n",
    "\n",
    "### Assignment 14: Counting with Dictionaries\n",
    "\n",
    "Write a function that takes a string and returns a dictionary with the count of each character in the string. Print the dictionary.\n",
    "\n",
    "### Assignment 15: Dictionary and JSON\n",
    "\n",
    "Create a dictionary representing a book with keys 'title', 'author', 'year', and 'genre'. Convert the dictionary to a JSON string and print it."
   ]
  },
  {
   "cell_type": "code",
   "execution_count": 2,
   "metadata": {},
   "outputs": [
    {
     "name": "stdout",
     "output_type": "stream",
     "text": [
      "{0: 0, 1: 1, 2: 4, 3: 9, 4: 16, 5: 25, 6: 36, 7: 49, 8: 64, 9: 81}\n"
     ]
    }
   ],
   "source": [
    "# 1st question\n",
    "d1 = {x: x**2 for x in range(10)}\n",
    "print(d1)"
   ]
  },
  {
   "cell_type": "code",
   "execution_count": 9,
   "id": "a9a35fc7",
   "metadata": {},
   "outputs": [
    {
     "name": "stdout",
     "output_type": "stream",
     "text": [
      "25 [0, 1, 2, 3, 4, 5, 6, 7, 8, 9]\n"
     ]
    }
   ],
   "source": [
    "print(d1[5], list(d1.keys()))"
   ]
  },
  {
   "cell_type": "code",
   "execution_count": 10,
   "id": "d0efbb95",
   "metadata": {},
   "outputs": [],
   "source": [
    "d1[11] = 121"
   ]
  },
  {
   "cell_type": "code",
   "execution_count": 12,
   "id": "9cd58d50",
   "metadata": {},
   "outputs": [
    {
     "ename": "KeyError",
     "evalue": "1",
     "output_type": "error",
     "traceback": [
      "\u001b[0;31m---------------------------------------------------------------------------\u001b[0m",
      "\u001b[0;31mKeyError\u001b[0m                                  Traceback (most recent call last)",
      "Cell \u001b[0;32mIn[12], line 1\u001b[0m\n\u001b[0;32m----> 1\u001b[0m \u001b[38;5;28;01mdel\u001b[39;00m d1[\u001b[38;5;241m1\u001b[39m]\n",
      "\u001b[0;31mKeyError\u001b[0m: 1"
     ]
    }
   ],
   "source": [
    "del d1[1]"
   ]
  },
  {
   "cell_type": "code",
   "execution_count": 13,
   "id": "fb4bd255",
   "metadata": {},
   "outputs": [
    {
     "name": "stdout",
     "output_type": "stream",
     "text": [
      "{0: 0, 2: 4, 3: 9, 4: 16, 5: 25, 6: 36, 7: 49, 8: 64, 9: 81, 11: 121}\n"
     ]
    }
   ],
   "source": [
    "print(d1)"
   ]
  },
  {
   "cell_type": "code",
   "execution_count": 15,
   "id": "dd87b26d",
   "metadata": {},
   "outputs": [
    {
     "name": "stdout",
     "output_type": "stream",
     "text": [
      "0 0\n",
      "2 4\n",
      "3 9\n",
      "4 16\n",
      "5 25\n",
      "6 36\n",
      "7 49\n",
      "8 64\n",
      "9 81\n",
      "11 121\n"
     ]
    }
   ],
   "source": [
    "for i,j in d1.items():\n",
    "    print(i,j)"
   ]
  },
  {
   "cell_type": "code",
   "execution_count": 16,
   "id": "41bae71c",
   "metadata": {},
   "outputs": [],
   "source": [
    "d2 = {i: i**3 for i in range(10)}"
   ]
  },
  {
   "cell_type": "code",
   "execution_count": 17,
   "id": "d729c62e",
   "metadata": {},
   "outputs": [
    {
     "name": "stdout",
     "output_type": "stream",
     "text": [
      "{0: 0, 1: 1, 2: 8, 3: 27, 4: 64, 5: 125, 6: 216, 7: 343, 8: 512, 9: 729}\n"
     ]
    }
   ],
   "source": [
    "print(d2)"
   ]
  },
  {
   "cell_type": "code",
   "execution_count": 19,
   "id": "d676868d",
   "metadata": {},
   "outputs": [
    {
     "name": "stdout",
     "output_type": "stream",
     "text": [
      "{1: 1, 2: 4, 3: 9, 4: 16, 5: 25} {6: 36, 7: 49, 8: 64, 9: 81, 10: 100}\n"
     ]
    }
   ],
   "source": [
    "a1 = {i: i**2 for i in range(1, 6)}\n",
    "a2 = {i: i**2 for i in range(6, 11)}\n",
    "print(a1, a2)"
   ]
  },
  {
   "cell_type": "code",
   "execution_count": 24,
   "id": "bf594bea",
   "metadata": {},
   "outputs": [
    {
     "name": "stdout",
     "output_type": "stream",
     "text": [
      "{1: 1, 2: 4, 3: 9, 4: 16, 5: 25, 6: 36, 7: 49, 8: 64, 9: 81, 10: 100}\n"
     ]
    }
   ],
   "source": [
    "a1.update(a2)\n",
    "print(a1)"
   ]
  },
  {
   "cell_type": "code",
   "execution_count": 25,
   "id": "d40dc53c",
   "metadata": {},
   "outputs": [
    {
     "name": "stdout",
     "output_type": "stream",
     "text": [
      "{'name': 'nikhil', 'age': 21, 'grades': {'math': 34, 'science': 33, 'english': 56}}\n"
     ]
    }
   ],
   "source": [
    "student = {\n",
    "    'name': 'Hema vardhan',\n",
    "    'age': 22,\n",
    "    'grades': {\n",
    "        'math': 90,\n",
    "        'science': 85,\n",
    "        'english': 88\n",
    "    },\n",
    "    'name': 'nikhil',\n",
    "    'age': 21,\n",
    "    'grades': {\n",
    "        'math': 34,\n",
    "        'science': 33,\n",
    "        'english': 56\n",
    "    }\n",
    "}\n",
    "print(student)"
   ]
  },
  {
   "cell_type": "code",
   "execution_count": 26,
   "id": "9f3a6ce0",
   "metadata": {},
   "outputs": [
    {
     "name": "stdout",
     "output_type": "stream",
     "text": [
      "{1: [1, 2, 3, 4, 5], 2: [2, 4, 6, 8, 10], 3: [3, 6, 9, 12, 15], 4: [4, 8, 12, 16, 20], 5: [5, 10, 15, 20, 25]}\n"
     ]
    }
   ],
   "source": [
    "# keys are 1st 5 +ve numbers and values are 1st 5 multiples\n",
    "x1 = {i: [i * j for j in range(1,6)] for i in range(1, 6)}\n",
    "print(x1)"
   ]
  },
  {
   "cell_type": "code",
   "execution_count": 27,
   "id": "3a70e394",
   "metadata": {},
   "outputs": [
    {
     "name": "stdout",
     "output_type": "stream",
     "text": [
      "{0: (0, 0), 1: (1, 1), 2: (2, 4), 3: (3, 9), 4: (4, 16)}\n"
     ]
    }
   ],
   "source": [
    "x1 = {i: (i, i**2) for i in range(5)}\n",
    "print(x1)"
   ]
  },
  {
   "cell_type": "code",
   "execution_count": 28,
   "id": "6478afe8",
   "metadata": {},
   "outputs": [
    {
     "name": "stdout",
     "output_type": "stream",
     "text": [
      "[(0, 0), (1, 1), (2, 4), (3, 9), (4, 16)]\n"
     ]
    }
   ],
   "source": [
    "x1 = {i: i**2 for i in range(5)}\n",
    "x2 = list(x1.items())\n",
    "print(x2)"
   ]
  },
  {
   "cell_type": "code",
   "execution_count": 29,
   "id": "7bd65a16",
   "metadata": {},
   "outputs": [
    {
     "name": "stdout",
     "output_type": "stream",
     "text": [
      "{1: 2, 2: 4, 3: 6, 4: 8, 5: 10, 6: 12, 7: 14, 8: 16, 9: 18, 10: 20} {2: 4, 4: 16, 6: 36, 8: 64, 10: 100}\n"
     ]
    }
   ],
   "source": [
    "x1 = {i: i*2 for i in range(1, 11)}\n",
    "x2 = {i: i**2 for i in range(1,11) if not i&1}\n",
    "print(x1, x2)"
   ]
  },
  {
   "cell_type": "code",
   "execution_count": 31,
   "id": "16051a6c",
   "metadata": {},
   "outputs": [
    {
     "name": "stdout",
     "output_type": "stream",
     "text": [
      "{1: 1, 4: 2, 9: 3, 16: 4, 25: 5}\n"
     ]
    }
   ],
   "source": [
    "x1 = {i: i**2 for i in range(1, 6)}\n",
    "x2 = {j: i for i,j in x1.items()}\n",
    "print(x2)"
   ]
  },
  {
   "cell_type": "code",
   "execution_count": 33,
   "id": "ce8ab0e5",
   "metadata": {},
   "outputs": [
    {
     "name": "stdout",
     "output_type": "stream",
     "text": [
      "{1: [], 2: [12], 3: [], 4: [], 5: []}\n"
     ]
    }
   ],
   "source": [
    "x1 = {i: [] for i in range(1,6)}\n",
    "x1[2].append(12)\n",
    "print(x1)"
   ]
  },
  {
   "cell_type": "code",
   "execution_count": null,
   "id": "e56a2d34",
   "metadata": {},
   "outputs": [
    {
     "name": "stdout",
     "output_type": "stream",
     "text": [
      "{'1': 1, '2': 1, '3': 1, '4': 1}\n"
     ]
    }
   ],
   "source": [
    "def count_chars(s):\n",
    "    count_dict = {}\n",
    "    for char in s:\n",
    "        count_dict[char] = count_dict.get(char, 0) + 1\n",
    "    return count_dict\n",
    "\n",
    "string = \"hello world\"\n",
    "print(count_chars(string))"
   ]
  },
  {
   "cell_type": "code",
   "execution_count": null,
   "id": "c20d908c",
   "metadata": {},
   "outputs": [],
   "source": []
  }
 ],
 "metadata": {
  "kernelspec": {
   "display_name": "pythonPractiveEnv",
   "language": "python",
   "name": "python3"
  },
  "language_info": {
   "codemirror_mode": {
    "name": "ipython",
    "version": 3
   },
   "file_extension": ".py",
   "mimetype": "text/x-python",
   "name": "python",
   "nbconvert_exporter": "python",
   "pygments_lexer": "ipython3",
   "version": "3.10.12"
  }
 },
 "nbformat": 4,
 "nbformat_minor": 5
}
