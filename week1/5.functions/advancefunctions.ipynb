{
 "cells": [
  {
   "cell_type": "markdown",
   "metadata": {},
   "source": [
    "# Module 4: Advanced Functions Assignments\n",
    "## Lesson 4.1: Defining Functions\n",
    "### Assignment 1: Fibonacci Sequence with Memoization\n",
    "\n",
    "Define a recursive function to calculate the nth Fibonacci number using memoization. Test the function with different inputs.\n",
    "\n",
    "### Assignment 2: Function with Nested Default Arguments\n",
    "\n",
    "Define a function that takes two arguments, a and b, where b is a dictionary with a default value of an empty dictionary. The function should add a new key-value pair to the dictionary and return it. Test the function with different inputs.\n",
    "\n",
    "### Assignment 3: Function with Variable Keyword Arguments\n",
    "\n",
    "Define a function that takes a variable number of keyword arguments and returns a dictionary containing only those key-value pairs where the value is an integer. Test the function with different inputs.\n",
    "\n",
    "### Assignment 4: Function with Callback\n",
    "\n",
    "Define a function that takes another function as a callback and a list of integers. The function should apply the callback to each integer in the list and return a new list with the results. Test with different callback functions.\n",
    "\n",
    "### Assignment 5: Function that Returns a Function\n",
    "\n",
    "Define a function that returns another function. The returned function should take an integer and return its square. Test the returned function with different inputs.\n",
    "\n",
    "### Assignment 6: Function with Decorators\n",
    "\n",
    "Define a function that calculates the time taken to execute another function. Apply this decorator to a function that performs a complex calculation. Test the decorated function with different inputs.\n",
    "\n",
    "### Assignment 7: Higher-Order Function for Filtering and Mapping\n",
    "\n",
    "Define a higher-order function that takes two functions, a filter function and a map function, along with a list of integers. The higher-order function should first filter the integers using the filter function and then apply the map function to the filtered integers. Test with different filter and map functions.\n",
    "\n",
    "### Assignment 8: Function Composition\n",
    "\n",
    "Define a function that composes two functions, f and g, such that the result is f(g(x)). Test with different functions f and g.\n",
    "\n",
    "### Assignment 9: Partial Function Application\n",
    "\n",
    "Use the functools.partial function to create a new function that multiplies its input by 2. Test the new function with different inputs.\n",
    "\n",
    "### Assignment 10: Function with Error Handling\n",
    "\n",
    "Define a function that takes a list of integers and returns their average. The function should handle any errors that occur (e.g., empty list) and return None in such cases. Test with different inputs.\n",
    "\n",
    "### Assignment 11: Function with Generators\n",
    "\n",
    "Define a function that generates an infinite sequence of Fibonacci numbers. Test by printing the first 10 numbers in the sequence.\n",
    "\n",
    "### Assignment 12: Currying\n",
    "\n",
    "Define a curried function that takes three arguments, one at a time, and returns their product. Test the function by providing arguments one at a time.\n",
    "\n",
    "### Assignment 13: Function with Context Manager\n",
    "\n",
    "Define a function that uses a context manager to write a list of integers to a file. The function should handle any errors that occur during file operations. Test with different lists.\n",
    "\n",
    "### Assignment 14: Function with Multiple Return Types\n",
    "\n",
    "Define a function that takes a list of mixed data types (integers, strings, and floats) and returns three lists: one containing all the integers, one containing all the strings, and one containing all the floats. Test with different inputs.\n",
    "\n",
    "### Assignment 15: Function with State\n",
    "\n",
    "Define a function that maintains state between calls using a mutable default argument. The function should keep track of how many times it has been called. Test by calling the function multiple times."
   ]
  },
  {
   "cell_type": "code",
   "execution_count": null,
   "metadata": {},
   "outputs": [],
   "source": [
    "### Assignment 1: Fibonacci Sequence with Memoization\n",
    "def fib(n, mem={}):\n",
    "    if n in mem:\n",
    "        return mem[n]\n",
    "    if(n<=1):\n",
    "        return n\n",
    "    mem[n] = fib(n - 1, mem) + fib(n - 2, mem)\n",
    "    return mem[n]"
   ]
  },
  {
   "cell_type": "code",
   "execution_count": 2,
   "id": "af9ae189",
   "metadata": {},
   "outputs": [
    {
     "name": "stdout",
     "output_type": "stream",
     "text": [
      "True\n"
     ]
    }
   ],
   "source": [
    "x = {2:\"hello\", 3:\"hey\"}\n",
    "print(2 in x)"
   ]
  },
  {
   "cell_type": "code",
   "execution_count": 4,
   "id": "695dc88e",
   "metadata": {},
   "outputs": [
    {
     "data": {
      "text/plain": [
       "55"
      ]
     },
     "execution_count": 4,
     "metadata": {},
     "output_type": "execute_result"
    }
   ],
   "source": [
    "fib(10)"
   ]
  },
  {
   "cell_type": "markdown",
   "id": "421ace3a",
   "metadata": {},
   "source": [
    "### Assignment 3: Function with Variable Keyword Arguments\n",
    "\n",
    "Define a function that takes a variable number of keyword arguments and returns a dictionary containing only those key-value pairs where the value is an integer. Test the function with different inputs."
   ]
  },
  {
   "cell_type": "code",
   "execution_count": 5,
   "id": "77875ced",
   "metadata": {},
   "outputs": [
    {
     "data": {
      "text/plain": [
       "int"
      ]
     },
     "execution_count": 5,
     "metadata": {},
     "output_type": "execute_result"
    }
   ],
   "source": [
    "type(3)"
   ]
  },
  {
   "cell_type": "code",
   "execution_count": 6,
   "id": "8dce38b5",
   "metadata": {},
   "outputs": [
    {
     "data": {
      "text/plain": [
       "{'name': 3}"
      ]
     },
     "execution_count": 6,
     "metadata": {},
     "output_type": "execute_result"
    }
   ],
   "source": [
    "def func(**kargs):\n",
    "    ans = {}\n",
    "    for i,j in kargs.items():\n",
    "        if(type(j)==int):\n",
    "            ans[i] = j\n",
    "    return ans\n",
    "func(name=3, hey=\"4\")"
   ]
  },
  {
   "cell_type": "markdown",
   "id": "7c1b9bd3",
   "metadata": {},
   "source": [
    "### Assignment 4: Function with Callback\n",
    "\n",
    "Define a function that takes another function as a callback and a list of integers. The function should apply the callback to each integer in the list and return a new list with the results. Test with different callback functions."
   ]
  },
  {
   "cell_type": "code",
   "execution_count": 9,
   "id": "91f68993",
   "metadata": {},
   "outputs": [
    {
     "data": {
      "text/plain": [
       "[1, 4, 9]"
      ]
     },
     "execution_count": 9,
     "metadata": {},
     "output_type": "execute_result"
    }
   ],
   "source": [
    "def func(x, y):\n",
    "    return [x(i) for i in y]\n",
    "func(lambda x:x**2, [1,2,3])"
   ]
  },
  {
   "cell_type": "markdown",
   "id": "246600c8",
   "metadata": {},
   "source": [
    "### Assignment 5: Function that Returns a Function\n",
    "\n",
    "Define a function that returns another function. The returned function should take an integer and return its square. Test the returned function with different inputs."
   ]
  },
  {
   "cell_type": "code",
   "execution_count": 10,
   "id": "08ad42eb",
   "metadata": {},
   "outputs": [
    {
     "data": {
      "text/plain": [
       "9"
      ]
     },
     "execution_count": 10,
     "metadata": {},
     "output_type": "execute_result"
    }
   ],
   "source": [
    "def func_callback(callback):\n",
    "    return callback\n",
    "func_callback(lambda x: x**2)(3)"
   ]
  },
  {
   "cell_type": "markdown",
   "id": "f2ab9289",
   "metadata": {},
   "source": [
    "### Assignment 6: Function with Decorators\n",
    "\n",
    "Define a function that calculates the time taken to execute another function. Apply this decorator to a function that performs a complex calculation. Test the decorated function with different inputs."
   ]
  },
  {
   "cell_type": "code",
   "execution_count": 11,
   "id": "7623a459",
   "metadata": {},
   "outputs": [],
   "source": [
    "import time\n",
    "\n",
    "def time_decorator(func):\n",
    "    def time_checker(*args, **kargs):\n",
    "        start_time = time.time()\n",
    "        result = func(*args, **kargs)\n",
    "        end_time = time.time()\n",
    "        print(f\"Function took {end_time - start_time} to execute\")\n",
    "        return result\n",
    "    return time_checker\n",
    "\n",
    "@time_decorator\n",
    "def complex_op(n):\n",
    "    return sum(x**2 for x in range(n))"
   ]
  },
  {
   "cell_type": "code",
   "execution_count": 12,
   "id": "c22161e4",
   "metadata": {},
   "outputs": [
    {
     "name": "stdout",
     "output_type": "stream",
     "text": [
      "Function took 0.0002865791320800781 to execute\n",
      "332833500\n"
     ]
    }
   ],
   "source": [
    "print(complex_op(1000))"
   ]
  },
  {
   "cell_type": "code",
   "execution_count": 13,
   "id": "a25099ee",
   "metadata": {},
   "outputs": [
    {
     "name": "stdout",
     "output_type": "stream",
     "text": [
      "True\n"
     ]
    }
   ],
   "source": [
    "x = \"hey\"\n",
    "y = \"hello hey howare you\"\n",
    "print(x in y)"
   ]
  },
  {
   "cell_type": "markdown",
   "id": "5a7fbda4",
   "metadata": {},
   "source": [
    "⚙️ Decorator\n",
    "\n",
    "➡️ A decorator takes a function as input, wraps it, and then returns a new function.\n",
    "\n",
    "You apply it before the function runs to modify or extend its behavior.\n",
    "\n",
    "@decorator\n",
    "def my_func():\n",
    "    ...\n",
    "\n",
    "\n",
    "Flow:\n",
    "\n",
    "decorator → (takes) my_func → returns wrapped version\n",
    "\n",
    "\n",
    "So the decorator controls how the function is run.\n",
    "\n",
    "⚙️ Callback\n",
    "\n",
    "➡️ A callback is a function that you pass as an argument to another function, so that it can be called later (usually after something happens).\n",
    "\n",
    "You use it after something else happens, like a signal, an event, or a completion.\n",
    "\n",
    "Example:\n",
    "\n",
    "def do_task(callback):\n",
    "    print(\"Task running...\")\n",
    "    callback()  # call it later\n",
    "\n",
    "def on_done():\n",
    "    print(\"Task finished!\")\n",
    "\n",
    "do_task(on_done)\n",
    "\n",
    "\n",
    "Flow:\n",
    "\n",
    "main function → (calls) callback → after completion\n",
    "\n",
    "\n",
    "So the main function controls when the callback is run."
   ]
  },
  {
   "cell_type": "markdown",
   "id": "405f9895",
   "metadata": {},
   "source": [
    "| Feature           | Decorator                                           | Callback                                         |\n",
    "| ----------------- | --------------------------------------------------- | ------------------------------------------------ |\n",
    "| **Direction**     | Function is *given to* another (decorator wraps it) | Function is *passed into* another (called later) |\n",
    "| **Purpose**       | Modify or extend a function’s behavior              | Execute a function *after* or *inside* another   |\n",
    "| **When executed** | Before and around the wrapped function              | After or during another function                 |\n",
    "| **Control**       | Decorator controls how the main function runs       | Main function controls when callback runs        |\n",
    "\n"
   ]
  },
  {
   "cell_type": "markdown",
   "id": "e4f56b1b",
   "metadata": {},
   "source": [
    "### Assignment 7: Higher-Order Function for Filtering and Mapping\n",
    "\n",
    "Define a higher-order function that takes two functions, a filter function and a map function, along with a list of integers. The higher-order function should first filter the integers using the filter function and then apply the map function to the filtered integers. Test with different filter and map functions."
   ]
  },
  {
   "cell_type": "code",
   "execution_count": 15,
   "id": "bfe600bc",
   "metadata": {},
   "outputs": [
    {
     "data": {
      "text/plain": [
       "[4, 16, 36, 64, 100]"
      ]
     },
     "execution_count": 15,
     "metadata": {},
     "output_type": "execute_result"
    }
   ],
   "source": [
    "def get_squares_of_even(func1, func2, lst):\n",
    "    lst1 = func1(lst)\n",
    "    return func2(lst1)\n",
    "def filter_even(lst):\n",
    "    return [i for i in lst if not i&1]\n",
    "def square_list(lst):\n",
    "    return [i**2 for i in lst]\n",
    "get_squares_of_even(filter_even, square_list, [1,2,3,4,5,6,7,8,9,10])"
   ]
  },
  {
   "cell_type": "markdown",
   "id": "0d76e144",
   "metadata": {},
   "source": [
    "### Assignment 8: Function Composition\n",
    "\n",
    "Define a function that composes two functions, f and g, such that the result is f(g(x)). Test with different functions f and g.\n"
   ]
  },
  {
   "cell_type": "code",
   "execution_count": 16,
   "id": "5953e745",
   "metadata": {},
   "outputs": [
    {
     "data": {
      "text/plain": [
       "16.0"
      ]
     },
     "execution_count": 16,
     "metadata": {},
     "output_type": "execute_result"
    }
   ],
   "source": [
    "def test_func(f, g, x):\n",
    "    a = g(x)\n",
    "    return f(a)\n",
    "test_func(lambda x: x**2, lambda x: x/2, 8)"
   ]
  },
  {
   "cell_type": "markdown",
   "id": "e66b7d28",
   "metadata": {},
   "source": [
    "### Assignment 9: Partial Function Application\n",
    "\n",
    "Use the functools.partial function to create a new function that multiplies its input by 2. Test the new function with different inputs."
   ]
  },
  {
   "cell_type": "code",
   "execution_count": 18,
   "id": "3e93bc3b",
   "metadata": {},
   "outputs": [
    {
     "data": {
      "text/plain": [
       "6"
      ]
     },
     "execution_count": 18,
     "metadata": {},
     "output_type": "execute_result"
    }
   ],
   "source": [
    "from functools import partial\n",
    "\n",
    "func1 = partial(lambda x, y: x * y, 2)\n",
    "\n",
    "func1(3)"
   ]
  },
  {
   "cell_type": "code",
   "execution_count": 20,
   "id": "1bc2a315",
   "metadata": {},
   "outputs": [
    {
     "data": {
      "text/plain": [
       "6"
      ]
     },
     "execution_count": 20,
     "metadata": {},
     "output_type": "execute_result"
    }
   ],
   "source": [
    "# partial function is same as\n",
    "(lambda y: (lambda x,y: x*y)(2, y))(3)"
   ]
  },
  {
   "cell_type": "markdown",
   "id": "b63c4f4a",
   "metadata": {},
   "source": [
    "### Assignment 10: Function with Error Handling\n",
    "\n",
    "Define a function that takes a list of integers and returns their average. The function should handle any errors that occur (e.g., empty list) and return None in such cases. Test with different inputs."
   ]
  },
  {
   "cell_type": "code",
   "execution_count": 21,
   "id": "fe82bcbc",
   "metadata": {},
   "outputs": [
    {
     "name": "stdout",
     "output_type": "stream",
     "text": [
      "3.0\n",
      "None\n"
     ]
    }
   ],
   "source": [
    "def average(lst):\n",
    "    try:\n",
    "        return sum(lst) / len(lst)\n",
    "    except ZeroDivisionError:\n",
    "        return None\n",
    "\n",
    "# Test\n",
    "print(average([1, 2, 3, 4, 5]))  # 3.0\n",
    "print(average([]))  # None"
   ]
  },
  {
   "cell_type": "markdown",
   "id": "c6bad92f",
   "metadata": {},
   "source": [
    "### Assignment 11: Function with Generators\n",
    "\n",
    "Define a function that generates an infinite sequence of Fibonacci numbers. Test by printing the first 10 numbers in the sequence."
   ]
  },
  {
   "cell_type": "code",
   "execution_count": 23,
   "id": "bb0843c4",
   "metadata": {},
   "outputs": [
    {
     "name": "stdout",
     "output_type": "stream",
     "text": [
      "0\n",
      "1\n",
      "1\n",
      "2\n",
      "3\n",
      "5\n",
      "8\n",
      "13\n",
      "21\n",
      "34\n"
     ]
    }
   ],
   "source": [
    "def feb_generator():\n",
    "    a, b = 0, 1\n",
    "    while True:\n",
    "        yield a\n",
    "        a, b = b, a+b\n",
    "feb_instance = feb_generator()\n",
    "for _ in range(10):\n",
    "    print(next(feb_instance))"
   ]
  },
  {
   "cell_type": "markdown",
   "id": "44a06290",
   "metadata": {},
   "source": [
    "### Assignment 12: Currying\n",
    "\n",
    "Define a curried function that takes three arguments, one at a time, and returns their product. Test the function by providing arguments one at a time."
   ]
  },
  {
   "cell_type": "code",
   "execution_count": 24,
   "id": "31e48118",
   "metadata": {},
   "outputs": [
    {
     "data": {
      "text/plain": [
       "30"
      ]
     },
     "execution_count": 24,
     "metadata": {},
     "output_type": "execute_result"
    }
   ],
   "source": [
    "def outer(x):\n",
    "    def inner1(y):\n",
    "        def inner2(z):\n",
    "            return x*y*z\n",
    "        return inner2\n",
    "    return inner1\n",
    "outer(2)(3)(5)"
   ]
  },
  {
   "cell_type": "markdown",
   "id": "1538801c",
   "metadata": {},
   "source": [
    "### Assignment 13: Function with Context Manager\n",
    "\n",
    "Define a function that uses a context manager to write a list of integers to a file. The function should handle any errors that occur during file operations. Test with different lists."
   ]
  },
  {
   "cell_type": "code",
   "execution_count": 30,
   "id": "6e2e721e",
   "metadata": {},
   "outputs": [],
   "source": [
    "def write_to_file(lst, filename):\n",
    "    try:\n",
    "        with open(filename, 'w') as f:\n",
    "            for num in lst:\n",
    "                f.write(f\"{num}\\n\")\n",
    "    except IOError as e:\n",
    "        print(f\"An error occurred: {e}\")\n",
    "\n",
    "# Test\n",
    "write_to_file([1, 2, 3, 4, 5], 'output.txt')"
   ]
  },
  {
   "cell_type": "code",
   "execution_count": 28,
   "id": "ad0febca",
   "metadata": {},
   "outputs": [
    {
     "data": {
      "text/plain": [
       "'/home/sys2233/Desktop/python/week1/5.functions'"
      ]
     },
     "execution_count": 28,
     "metadata": {},
     "output_type": "execute_result"
    }
   ],
   "source": [
    "import os\n",
    "os.getcwd()"
   ]
  },
  {
   "cell_type": "markdown",
   "id": "d1d19603",
   "metadata": {},
   "source": [
    "### Assignment 14: Function with Multiple Return Types\n",
    "\n",
    "Define a function that takes a list of mixed data types (integers, strings, and floats) and returns three lists: one containing all the integers, one containing all the strings, and one containing all the floats. Test with different inputs."
   ]
  },
  {
   "cell_type": "code",
   "execution_count": 34,
   "id": "ec494c60",
   "metadata": {},
   "outputs": [
    {
     "data": {
      "text/plain": [
       "([1, 2, 3], ['hey', 'myan'], [4.0])"
      ]
     },
     "execution_count": 34,
     "metadata": {},
     "output_type": "execute_result"
    }
   ],
   "source": [
    "def separator(*args):\n",
    "    a,b,c = [],[],[]\n",
    "    for i in args:\n",
    "        if(type(i)==int):\n",
    "            a.append(i)\n",
    "        elif(type(i)==str):\n",
    "            b.append(i)\n",
    "        elif(type(i)==float):\n",
    "            c.append(i)\n",
    "    return a,b,c\n",
    "\n",
    "separator(\"hey\",\"myan\", 1,2,3, 4.0)"
   ]
  },
  {
   "cell_type": "markdown",
   "id": "cf699868",
   "metadata": {},
   "source": [
    "### Assignment 15: Function with State\n",
    "\n",
    "Define a function that maintains state between calls using a mutable default argument. The function should keep track of how many times it has been called. Test by calling the function multiple times."
   ]
  },
  {
   "cell_type": "markdown",
   "id": "3af468e2",
   "metadata": {},
   "source": [
    "⚙️ Rule:\n",
    "\n",
    "Default arguments are evaluated only once — when the function is defined, not each time it’s called.\n",
    "\n",
    "So, the dictionary {'count': 0} is created once when Python first reads the function, and then the same dictionary is reused every time you call call_counter()."
   ]
  },
  {
   "cell_type": "code",
   "execution_count": 35,
   "id": "193d7f02",
   "metadata": {},
   "outputs": [
    {
     "name": "stdout",
     "output_type": "stream",
     "text": [
      "1\n",
      "2\n",
      "3\n"
     ]
    }
   ],
   "source": [
    "def call_counter(counter={'count': 0}):\n",
    "    counter['count'] += 1\n",
    "    return counter['count']\n",
    "\n",
    "# Test\n",
    "print(call_counter())  # 1\n",
    "print(call_counter())  # 2\n",
    "print(call_counter())  # 3"
   ]
  },
  {
   "cell_type": "code",
   "execution_count": 36,
   "id": "24b4cb69",
   "metadata": {},
   "outputs": [
    {
     "name": "stdout",
     "output_type": "stream",
     "text": [
      "4\n",
      "5\n",
      "6\n"
     ]
    }
   ],
   "source": [
    "# Test\n",
    "print(call_counter())  # 1\n",
    "print(call_counter())  # 2\n",
    "print(call_counter())  # 3"
   ]
  },
  {
   "cell_type": "code",
   "execution_count": null,
   "id": "a6d75bf4",
   "metadata": {},
   "outputs": [],
   "source": []
  }
 ],
 "metadata": {
  "kernelspec": {
   "display_name": "pythonPractiveEnv",
   "language": "python",
   "name": "python3"
  },
  "language_info": {
   "codemirror_mode": {
    "name": "ipython",
    "version": 3
   },
   "file_extension": ".py",
   "mimetype": "text/x-python",
   "name": "python",
   "nbconvert_exporter": "python",
   "pygments_lexer": "ipython3",
   "version": "3.10.12"
  }
 },
 "nbformat": 4,
 "nbformat_minor": 5
}
