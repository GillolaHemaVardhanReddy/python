{
 "cells": [
  {
   "cell_type": "code",
   "execution_count": 1,
   "metadata": {},
   "outputs": [],
   "source": [
    "import torch"
   ]
  },
  {
   "cell_type": "markdown",
   "metadata": {},
   "source": [
    "1) What is a tensor (really)?\n",
    "\n",
    "A tensor is just a multi-dimensional array (numbers arranged in 0D, 1D, 2D, 3D, …).\n",
    "\n",
    "0D: scalar (e.g., 3.14)\n",
    "\n",
    "1D: vector (e.g., [1,2,3])\n",
    "\n",
    "2D: matrix (rows × columns)\n",
    "\n",
    "3D+: stacks of matrices (for images: N × C × H × W, etc.)\n",
    "\n",
    "PyTorch tensors:\n",
    "\n",
    "live on CPU or GPU\n",
    "\n",
    "know their dtype (float32, int64, …)\n",
    "\n",
    "track shape (torch.Size([..]))\n",
    "\n",
    "can participate in fast, vectorized math"
   ]
  },
  {
   "cell_type": "markdown",
   "metadata": {},
   "source": [
    "## 2. The essentials you’ll use every day\n",
    "Create tensors"
   ]
  },
  {
   "cell_type": "code",
   "execution_count": 2,
   "metadata": {},
   "outputs": [],
   "source": [
    "# from Python data\n",
    "x = torch.tensor([1.0, 2.0, 3.0])     # explicit data\n",
    "A = torch.tensor([[1, 2], [3, 4]])    # ints → int64 by default"
   ]
  },
  {
   "cell_type": "code",
   "execution_count": 14,
   "metadata": {},
   "outputs": [
    {
     "name": "stdout",
     "output_type": "stream",
     "text": [
      "torch.Size([3])\n",
      "torch.float32\n"
     ]
    },
    {
     "data": {
      "text/plain": [
       "tensor([2., 3.])"
      ]
     },
     "execution_count": 14,
     "metadata": {},
     "output_type": "execute_result"
    }
   ],
   "source": [
    "# shapes / dtypes\n",
    "print(x.shape)          # torch.Size([3])\n",
    "print(x.dtype)          # torch.int64\n",
    "x[1:]"
   ]
  },
  {
   "cell_type": "code",
   "execution_count": 28,
   "metadata": {},
   "outputs": [
    {
     "name": "stdout",
     "output_type": "stream",
     "text": [
      "cpu\n"
     ]
    }
   ],
   "source": [
    "# Dtype & device\n",
    "y = torch.ones(2, 3, dtype=torch.float32)\n",
    "device = \"cuda\" if torch.cuda.is_available() else \"cpu\"\n",
    "print(device)\n",
    "y = y.to(device)                      # move to GPU if available"
   ]
  },
  {
   "cell_type": "code",
   "execution_count": 19,
   "metadata": {},
   "outputs": [
    {
     "name": "stdout",
     "output_type": "stream",
     "text": [
      "tensor([ 0,  1,  2,  3,  4,  5,  6,  7,  8,  9, 10, 11])\n",
      "tensor([[ 0,  1,  2,  3],\n",
      "        [ 4,  5,  6,  7],\n",
      "        [ 8,  9, 10, 11]])\n",
      "tensor([[ 0,  1,  2,  3],\n",
      "        [ 4,  5,  6,  7],\n",
      "        [ 8,  9, 10, 11]])\n",
      "tensor([ 0,  1,  2,  3,  4,  5,  6,  7,  8,  9, 10, 11])\n"
     ]
    }
   ],
   "source": [
    "# Reshape vs view\n",
    "t = torch.arange(12)          # shape [12]\n",
    "print(t)\n",
    "t2 = t.reshape(3, 4)          # 3×4 (may copy)\n",
    "print(t2)\n",
    "t3 = t.view(3, 4)             # 3×4 (shares memory when possible)\n",
    "print(t3)\n",
    "t4 = t2.flatten()             # back to [12]\n",
    "print(t4)"
   ]
  },
  {
   "cell_type": "code",
   "execution_count": 30,
   "metadata": {},
   "outputs": [
    {
     "name": "stdout",
     "output_type": "stream",
     "text": [
      "tensor([[1., 1., 1.],\n",
      "        [1., 1., 1.]])\n",
      "tensor([[0., 0., 0.],\n",
      "        [0., 0., 0.]])\n",
      "tensor([[1., 1., 1.],\n",
      "        [1., 1., 1.],\n",
      "        [0., 0., 0.],\n",
      "        [0., 0., 0.]])\n",
      "tensor([[[1., 1., 1.],\n",
      "         [1., 1., 1.]],\n",
      "\n",
      "        [[0., 0., 0.],\n",
      "         [0., 0., 0.]]])\n"
     ]
    }
   ],
   "source": [
    "# Concatenate & stack\n",
    "a = torch.ones(2, 3)\n",
    "print(a)\n",
    "b = torch.zeros(2, 3)\n",
    "print(b)\n",
    "cat = torch.cat([a, b], dim=0)   # shape [4,3] — append rows\n",
    "print(cat)\n",
    "stk = torch.stack([a, b], dim=0) # shape [2,2,3] — new axis\n",
    "print(stk)"
   ]
  },
  {
   "cell_type": "code",
   "execution_count": 32,
   "metadata": {},
   "outputs": [
    {
     "name": "stdout",
     "output_type": "stream",
     "text": [
      "tensor([[1., 1., 1., 1.],\n",
      "        [1., 1., 1., 1.],\n",
      "        [1., 1., 1., 1.]])\n",
      "tensor([1., 2., 3., 4.])\n",
      "tensor([[2., 3., 4., 5.],\n",
      "        [2., 3., 4., 5.],\n",
      "        [2., 3., 4., 5.]])\n"
     ]
    }
   ],
   "source": [
    "# Broadcasting (auto-expansion of compatible shapes)\n",
    "M = torch.ones(3, 4)              # [3,4]\n",
    "print(M)\n",
    "v = torch.tensor([1., 2., 3., 4.])# [4]\n",
    "print(v)\n",
    "out = M + v                        # v → [3,4] behind the scenes\n",
    "print(out)"
   ]
  },
  {
   "cell_type": "markdown",
   "metadata": {},
   "source": [
    "🧩 2️⃣ Random Seed — what’s torch.manual_seed(42)?\n",
    "\n",
    "Every time you create random numbers, like torch.randn(…), PyTorch uses an internal random number generator.\n",
    "\n",
    "If you run the same code twice, you’ll normally get different random numbers.\n",
    "\n",
    "That’s sometimes bad — because you can’t reproduce your experiment.\n",
    "\n",
    "So we use a seed — a “starting point” for the random generator — to make results repeatable."
   ]
  },
  {
   "cell_type": "code",
   "execution_count": 54,
   "metadata": {},
   "outputs": [
    {
     "data": {
      "text/plain": [
       "<torch._C.Generator at 0x74d1640453b0>"
      ]
     },
     "execution_count": 54,
     "metadata": {},
     "output_type": "execute_result"
    }
   ],
   "source": [
    "torch.manual_seed(2)"
   ]
  },
  {
   "cell_type": "code",
   "execution_count": 55,
   "metadata": {},
   "outputs": [],
   "source": [
    "r1 = torch.randn(1,11)"
   ]
  },
  {
   "cell_type": "code",
   "execution_count": 56,
   "metadata": {},
   "outputs": [
    {
     "name": "stdout",
     "output_type": "stream",
     "text": [
      "tensor([[ 0.3923, -0.2236, -0.3195, -1.2050,  1.0445, -0.6332,  0.5731,  0.5409,\n",
      "         -0.3919, -1.0427,  1.3186]])\n"
     ]
    }
   ],
   "source": [
    "print(r1)"
   ]
  },
  {
   "cell_type": "code",
   "execution_count": 49,
   "metadata": {},
   "outputs": [
    {
     "name": "stdout",
     "output_type": "stream",
     "text": [
      "tensor([[ 0.3923, -0.2236, -0.3195, -1.2050,  1.0445, -0.6332,  0.5731,  0.5409,\n",
      "         -0.3919, -1.0427,  1.3186]])\n"
     ]
    }
   ],
   "source": [
    "torch.manual_seed(2)\n",
    "r2 = torch.randn(1, 11)\n",
    "print(r2)"
   ]
  },
  {
   "cell_type": "markdown",
   "metadata": {},
   "source": [
    "## 🧠 Exercise 1 — Add a vector to a matrix (row broadcasting)"
   ]
  },
  {
   "cell_type": "code",
   "execution_count": 60,
   "metadata": {},
   "outputs": [],
   "source": [
    "a = torch.arange(1, 25)\n",
    "a = a.reshape(4, 6)"
   ]
  },
  {
   "cell_type": "code",
   "execution_count": 63,
   "metadata": {},
   "outputs": [],
   "source": [
    "b = torch.ones((6))"
   ]
  },
  {
   "cell_type": "code",
   "execution_count": 64,
   "metadata": {},
   "outputs": [
    {
     "name": "stdout",
     "output_type": "stream",
     "text": [
      "tensor([1., 1., 1., 1., 1., 1.])\n"
     ]
    }
   ],
   "source": [
    "print(b)"
   ]
  },
  {
   "cell_type": "code",
   "execution_count": 65,
   "metadata": {},
   "outputs": [
    {
     "data": {
      "text/plain": [
       "tensor([[ 2.,  3.,  4.,  5.,  6.,  7.],\n",
       "        [ 8.,  9., 10., 11., 12., 13.],\n",
       "        [14., 15., 16., 17., 18., 19.],\n",
       "        [20., 21., 22., 23., 24., 25.]])"
      ]
     },
     "execution_count": 65,
     "metadata": {},
     "output_type": "execute_result"
    }
   ],
   "source": [
    "b + a"
   ]
  },
  {
   "cell_type": "markdown",
   "metadata": {},
   "source": [
    "## 🧠 Exercise 2 — Add a column vector to a matrix (column broadcasting)"
   ]
  },
  {
   "cell_type": "code",
   "execution_count": 68,
   "metadata": {},
   "outputs": [],
   "source": [
    "a = torch.arange(1, 25)\n",
    "a = a.reshape(2, 12)"
   ]
  },
  {
   "cell_type": "code",
   "execution_count": 69,
   "metadata": {},
   "outputs": [
    {
     "name": "stdout",
     "output_type": "stream",
     "text": [
      "tensor([[ 1,  2,  3,  4,  5,  6,  7,  8,  9, 10, 11, 12],\n",
      "        [13, 14, 15, 16, 17, 18, 19, 20, 21, 22, 23, 24]])\n"
     ]
    }
   ],
   "source": [
    "print(a)"
   ]
  },
  {
   "cell_type": "code",
   "execution_count": 70,
   "metadata": {},
   "outputs": [],
   "source": [
    "b = torch.tensor([[1.], [1.]])"
   ]
  },
  {
   "cell_type": "code",
   "execution_count": 71,
   "metadata": {},
   "outputs": [
    {
     "data": {
      "text/plain": [
       "tensor([[1.],\n",
       "        [1.]])"
      ]
     },
     "execution_count": 71,
     "metadata": {},
     "output_type": "execute_result"
    }
   ],
   "source": [
    "b"
   ]
  },
  {
   "cell_type": "code",
   "execution_count": 72,
   "metadata": {},
   "outputs": [
    {
     "data": {
      "text/plain": [
       "tensor([[ 2.,  3.,  4.,  5.,  6.,  7.,  8.,  9., 10., 11., 12., 13.],\n",
       "        [14., 15., 16., 17., 18., 19., 20., 21., 22., 23., 24., 25.]])"
      ]
     },
     "execution_count": 72,
     "metadata": {},
     "output_type": "execute_result"
    }
   ],
   "source": [
    "b + a"
   ]
  }
 ],
 "metadata": {
  "kernelspec": {
   "display_name": "pythonPractiveEnv",
   "language": "python",
   "name": "python3"
  },
  "language_info": {
   "codemirror_mode": {
    "name": "ipython",
    "version": 3
   },
   "file_extension": ".py",
   "mimetype": "text/x-python",
   "name": "python",
   "nbconvert_exporter": "python",
   "pygments_lexer": "ipython3",
   "version": "3.10.12"
  }
 },
 "nbformat": 4,
 "nbformat_minor": 2
}
