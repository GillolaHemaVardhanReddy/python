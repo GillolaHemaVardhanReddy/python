{
 "cells": [
  {
   "cell_type": "markdown",
   "metadata": {},
   "source": [
    "# 1️⃣ What is “autograd”?\n",
    "\n",
    "Autograd stands for automatic differentiation.\n",
    "It’s the part of PyTorch that calculates gradients for you.\n",
    "\n",
    "Gradients are the key to learning — they tell us how much each parameter should change to reduce the loss.\n",
    "\n",
    "If tensors are the “numbers,”\n",
    "autograd is the “brain” that lets those numbers learn."
   ]
  },
  {
   "cell_type": "markdown",
   "metadata": {},
   "source": [
    "# 2️⃣ Analogy\n",
    "\n",
    "Imagine you’re climbing a hill in the dark and want to reach the lowest point (the minimum).\n",
    "A gradient tells you which direction is downhill and how steep it is.\n",
    "PyTorch’s autograd lets you find that slope for any function automatically."
   ]
  },
  {
   "cell_type": "markdown",
   "metadata": {},
   "source": []
  }
 ],
 "metadata": {
  "language_info": {
   "name": "python"
  }
 },
 "nbformat": 4,
 "nbformat_minor": 2
}
