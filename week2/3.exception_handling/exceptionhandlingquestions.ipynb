{
 "cells": [
  {
   "cell_type": "markdown",
   "metadata": {},
   "source": [
    "# Module: Exception Handling Assignments\n",
    "## Lesson: Exception Handling with try, except, and finally\n",
    "### Assignment 1: Handling Division by Zero\n",
    "\n",
    "Write a function that takes two integers as input and returns their division. Use try, except, and finally blocks to handle division by zero and print an appropriate message.\n",
    "\n",
    "### Assignment 2: File Reading with Exception Handling\n",
    "\n",
    "Write a function that reads the contents of a file named `data.txt`. Use try, except, and finally blocks to handle file not found errors and ensure the file is properly closed.\n",
    "\n",
    "### Assignment 3: Handling Multiple Exceptions\n",
    "\n",
    "Write a function that takes a list of integers and returns their sum. Use try, except, and finally blocks to handle TypeError if a non-integer value is encountered and print an appropriate message.\n",
    "\n",
    "### Assignment 4: Exception Handling in User Input\n",
    "\n",
    "Write a function that prompts the user to enter an integer. Use try, except, and finally blocks to handle ValueError if the user enters a non-integer value and print an appropriate message.\n",
    "\n",
    "### Assignment 5: Exception Handling in Dictionary Access\n",
    "\n",
    "Write a function that takes a dictionary and a key as input and returns the value associated with the key. Use try, except, and finally blocks to handle KeyError if the key is not found in the dictionary and print an appropriate message.\n",
    "\n",
    "### Assignment 6: Nested Exception Handling\n",
    "\n",
    "Write a function that performs nested exception handling. It should first attempt to convert a string to an integer, and then attempt to divide by that integer. Use nested try, except, and finally blocks to handle ValueError and ZeroDivisionError and print appropriate messages.\n",
    "\n",
    "### Assignment 7: Exception Handling in List Operations\n",
    "\n",
    "Write a function that takes a list and an index as input and returns the element at the given index. Use try, except, and finally blocks to handle IndexError if the index is out of range and print an appropriate message.\n",
    "\n",
    "### Assignment 8: Exception Handling in Network Operations\n",
    "\n",
    "Write a function that attempts to open a URL and read its contents. Use try, except, and finally blocks to handle network-related errors and print an appropriate message.\n",
    "\n",
    "### Assignment 9: Exception Handling in JSON Parsing\n",
    "\n",
    "Write a function that attempts to parse a JSON string. Use try, except, and finally blocks to handle JSONDecodeError if the string is not a valid JSON and print an appropriate message.\n",
    "\n",
    "### Assignment 10: Custom Exception Handling\n",
    "\n",
    "Define a custom exception named `NegativeNumberError`. Write a function that raises this exception if a negative number is encountered in a list. Use try, except, and finally blocks to handle the custom exception and print an appropriate message.\n",
    "\n",
    "### Assignment 11: Exception Handling in Function Calls\n",
    "\n",
    "Write a function that calls another function which may raise an exception. Use try, except, and finally blocks to handle the exception and print an appropriate message.\n",
    "\n",
    "### Assignment 12: Exception Handling in Class Methods\n",
    "\n",
    "Define a class with a method that performs a division operation. Use try, except, and finally blocks within the method to handle division by zero and print an appropriate message.\n",
    "\n",
    "### Assignment 13: Exception Handling in Data Conversion\n",
    "\n",
    "Write a function that takes a list of strings and converts them to integers. Use try, except, and finally blocks to handle ValueError if a string cannot be converted and print an appropriate message.\n",
    "\n",
    "### Assignment 14: Exception Handling in List Comprehensions\n",
    "\n",
    "Write a function that uses a list comprehension to convert a list of strings to integers. Use try, except, and finally blocks within the list comprehension to handle ValueError and print an appropriate message.\n",
    "\n",
    "### Assignment 15: Exception Handling in File Writing\n",
    "\n",
    "Write a function that attempts to write a list of strings to a file. Use try, except, and finally blocks to handle IOError and ensure the file is properly closed."
   ]
  },
  {
   "cell_type": "markdown",
   "id": "cff5339e",
   "metadata": {},
   "source": [
    "### 1: Handling Division by Zero\n",
    "\n",
    "Write a function that takes two integers as input and returns their division. Use try, except, and finally blocks to handle division by zero and print an appropriate message."
   ]
  },
  {
   "cell_type": "code",
   "execution_count": 4,
   "metadata": {},
   "outputs": [],
   "source": [
    "def divide(a ,b):\n",
    "    try:\n",
    "        print(a/b)\n",
    "    except ZeroDivisionError as ex:\n",
    "        print(f\"please enter valid denominator b: {b}\",ex)\n",
    "    except Exception as ex:\n",
    "        print(f\"this is unknow exception not handled: {ex}\")\n",
    "    else:\n",
    "        print(\"no error occured\")\n",
    "    finally:\n",
    "        print(\"yoo i run everytime\")"
   ]
  },
  {
   "cell_type": "code",
   "execution_count": 5,
   "id": "25669225",
   "metadata": {},
   "outputs": [
    {
     "name": "stdout",
     "output_type": "stream",
     "text": [
      "please enter valid denominator b: 0 division by zero\n",
      "yoo i run everytime\n"
     ]
    }
   ],
   "source": [
    "divide(2, 0)"
   ]
  },
  {
   "cell_type": "code",
   "execution_count": 6,
   "id": "9acc32d5",
   "metadata": {},
   "outputs": [
    {
     "name": "stdout",
     "output_type": "stream",
     "text": [
      "1.0\n",
      "no error occured\n",
      "yoo i run everytime\n"
     ]
    }
   ],
   "source": [
    "divide(2, 2)"
   ]
  },
  {
   "cell_type": "code",
   "execution_count": 8,
   "id": "a4af942c",
   "metadata": {},
   "outputs": [],
   "source": [
    "def openFile():\n",
    "    try:\n",
    "        with open('data.txt', 'r') as file:\n",
    "            content = file.read()\n",
    "    except ZeroDivisionError as ex:\n",
    "        print(f\"{ex}\",ex)\n",
    "    except Exception as ex:\n",
    "        print(f\"this is unknow exception not handled: {ex}\")\n",
    "    else:\n",
    "        print(\"no error occured\")\n",
    "    finally:\n",
    "        print(\"yoo i run everytime\")"
   ]
  },
  {
   "cell_type": "code",
   "execution_count": 9,
   "id": "d44c5438",
   "metadata": {},
   "outputs": [
    {
     "name": "stdout",
     "output_type": "stream",
     "text": [
      "this is unknow exception not handled: [Errno 2] No such file or directory: 'data.txt'\n",
      "yoo i run everytime\n"
     ]
    }
   ],
   "source": [
    "openFile()"
   ]
  },
  {
   "cell_type": "markdown",
   "id": "1d7a0ad4",
   "metadata": {},
   "source": [
    "### 3: Handling Multiple Exceptions\n",
    "\n",
    "Write a function that takes a list of integers and returns their sum. Use try, except, and finally blocks to handle TypeError if a non-integer value is encountered and print an appropriate message."
   ]
  },
  {
   "cell_type": "code",
   "execution_count": 10,
   "id": "07ce2683",
   "metadata": {},
   "outputs": [],
   "source": [
    "def sum_of_list(l):\n",
    "    try:\n",
    "        sumans = sum(l)\n",
    "    except TypeError as ex:\n",
    "        print(ex)\n",
    "    else:\n",
    "        return sumans\n",
    "    finally:\n",
    "        print(\"i run every time yoo........\")"
   ]
  },
  {
   "cell_type": "code",
   "execution_count": 13,
   "id": "e57b2108",
   "metadata": {},
   "outputs": [
    {
     "name": "stdout",
     "output_type": "stream",
     "text": [
      "unsupported operand type(s) for +: 'int' and 'str'\n",
      "i run every time yoo........\n"
     ]
    }
   ],
   "source": [
    "sum_of_list([1,2,3,4,5, \"6\"])"
   ]
  },
  {
   "cell_type": "markdown",
   "id": "9c986cbb",
   "metadata": {},
   "source": [
    "### 4: Exception Handling in User Input\n",
    "\n",
    "Write a function that prompts the user to enter an integer. Use try, except, and finally blocks to handle ValueError if the user enters a non-integer value and print an appropriate message.\n"
   ]
  },
  {
   "cell_type": "code",
   "execution_count": 14,
   "id": "d8491aad",
   "metadata": {},
   "outputs": [],
   "source": [
    "def getuser_input():\n",
    "    try:\n",
    "        a = int(input(\"enter the input\"))\n",
    "    except ValueError as ex:\n",
    "        print(ex)\n",
    "    else:\n",
    "        print(\"i run when no error\")\n",
    "    finally:\n",
    "        print(\"i run everytime yoo...\")"
   ]
  },
  {
   "cell_type": "code",
   "execution_count": 16,
   "id": "1ee17956",
   "metadata": {},
   "outputs": [
    {
     "name": "stdout",
     "output_type": "stream",
     "text": [
      "i run when no error\n",
      "i run everytime yoo...\n"
     ]
    }
   ],
   "source": [
    "getuser_input()"
   ]
  },
  {
   "cell_type": "markdown",
   "id": "07dce157",
   "metadata": {},
   "source": [
    "### 5: Exception Handling in Dictionary Access\n",
    "\n",
    "Write a function that takes a dictionary and a key as input and returns the value associated with the key. Use try, except, and finally blocks to handle KeyError if the key is not found in the dictionary and print an appropriate message."
   ]
  },
  {
   "cell_type": "code",
   "execution_count": 23,
   "id": "468e5a5f",
   "metadata": {},
   "outputs": [],
   "source": [
    "def check_dic(dict, a):\n",
    "    try:\n",
    "        print(dict[a])\n",
    "    except KeyError as ex:\n",
    "        print(\"this is a key error: no such key as\",ex)\n",
    "    else:\n",
    "        print(\"run son no error....\")\n",
    "    finally: \n",
    "        print(\"runs everytime yoo....\")"
   ]
  },
  {
   "cell_type": "code",
   "execution_count": 26,
   "id": "c4505511",
   "metadata": {},
   "outputs": [
    {
     "name": "stdout",
     "output_type": "stream",
     "text": [
      "this is a key error: no such key as 'hey'\n",
      "runs everytime yoo....\n"
     ]
    }
   ],
   "source": [
    "check_dic({'hello': 2}, 'hey')"
   ]
  },
  {
   "cell_type": "markdown",
   "id": "8249fc48",
   "metadata": {},
   "source": [
    "### 6: Nested Exception Handling\n",
    "\n",
    "Write a function that performs nested exception handling. It should first attempt to convert a string to an integer, and then attempt to divide by that integer. Use nested try, except, and finally blocks to handle ValueError and ZeroDivisionError and print appropriate messages.\n"
   ]
  },
  {
   "cell_type": "markdown",
   "id": "f94a5397",
   "metadata": {},
   "source": [
    "# Python Exception Hierarchy\n",
    "\n",
    "```\n",
    "\n",
    "BaseException\n",
    "├── SystemExit\n",
    "├── KeyboardInterrupt\n",
    "├── GeneratorExit\n",
    "└── Exception\n",
    "├── ArithmeticError\n",
    "│    ├── ZeroDivisionError\n",
    "│    ├── OverflowError\n",
    "│    └── FloatingPointError\n",
    "├── AssertionError\n",
    "├── AttributeError\n",
    "├── BufferError\n",
    "├── EOFError\n",
    "├── ImportError\n",
    "│    ├── ModuleNotFoundError\n",
    "│    └── ZipImportError\n",
    "├── LookupError\n",
    "│    ├── IndexError\n",
    "│    └── KeyError\n",
    "├── MemoryError\n",
    "├── NameError\n",
    "│    ├── UnboundLocalError\n",
    "│    └── NameError\n",
    "├── OSError\n",
    "│    ├── BlockingIOError\n",
    "│    ├── ChildProcessError\n",
    "│    ├── ConnectionError\n",
    "│    │    ├── BrokenPipeError\n",
    "│    │    ├── ConnectionAbortedError\n",
    "│    │    ├── ConnectionRefusedError\n",
    "│    │    └── ConnectionResetError\n",
    "│    ├── FileExistsError\n",
    "│    ├── FileNotFoundError\n",
    "│    ├── InterruptedError\n",
    "│    ├── IsADirectoryError\n",
    "│    ├── NotADirectoryError\n",
    "│    ├── PermissionError\n",
    "│    ├── ProcessLookupError\n",
    "│    ├── TimeoutError\n",
    "│    └── UnsupportedOperation\n",
    "├── ReferenceError\n",
    "├── RuntimeError\n",
    "│    ├── NotImplementedError\n",
    "│    ├── RecursionError\n",
    "│    └── RuntimeError\n",
    "├── SyntaxError\n",
    "│    ├── IndentationError\n",
    "│    │    └── TabError\n",
    "│    └── SyntaxError\n",
    "├── SystemError\n",
    "├── TypeError\n",
    "├── ValueError\n",
    "│    ├── UnicodeError\n",
    "│    │    ├── UnicodeDecodeError\n",
    "│    │    ├── UnicodeEncodeError\n",
    "│    │    └── UnicodeTranslateError\n",
    "│    └── ValueError\n",
    "├── Warning\n",
    "│    ├── DeprecationWarning\n",
    "│    ├── PendingDeprecationWarning\n",
    "│    ├── SyntaxWarning\n",
    "│    ├── RuntimeWarning\n",
    "│    ├── FutureWarning\n",
    "│    ├── UserWarning\n",
    "│    ├── BytesWarning\n",
    "│    ├── ResourceWarning\n",
    "│    └── Warning\n",
    "\n",
    "```"
   ]
  },
  {
   "cell_type": "code",
   "execution_count": 45,
   "id": "e3829e0e",
   "metadata": {},
   "outputs": [],
   "source": [
    "def readAnddivide(a):\n",
    "    try:\n",
    "        x = int(a)\n",
    "        2/0\n",
    "        print(2/x)\n",
    "    except ValueError as ex:\n",
    "        print(ex)\n",
    "    except ZeroDivisionError as ex:\n",
    "        print(ex)\n",
    "    else:\n",
    "        print(\"no error dude...\")\n",
    "    finally:\n",
    "        print(\"will run every time...\")"
   ]
  },
  {
   "cell_type": "code",
   "execution_count": 46,
   "id": "21cfa05c",
   "metadata": {},
   "outputs": [
    {
     "name": "stdout",
     "output_type": "stream",
     "text": [
      "invalid literal for int() with base 10: 'hey'\n",
      "will run every time...\n"
     ]
    }
   ],
   "source": [
    "readAnddivide('hey')"
   ]
  },
  {
   "cell_type": "markdown",
   "id": "6d988593",
   "metadata": {},
   "source": [
    "\n",
    "### 7: Exception Handling in List Operations\n",
    "\n",
    "Write a function that takes a list and an index as input and returns the element at the given index. Use try, except, and finally blocks to handle IndexError if the index is out of range and print an appropriate message.\n"
   ]
  },
  {
   "cell_type": "code",
   "execution_count": 3,
   "id": "a630b59f",
   "metadata": {},
   "outputs": [],
   "source": [
    "def fetch_value(lst, index):\n",
    "        try:\n",
    "            return lst[index]\n",
    "        except IndexError as ex:\n",
    "              print(ex)\n",
    "        finally:\n",
    "              print(\"i run every time yo...\")"
   ]
  },
  {
   "cell_type": "code",
   "execution_count": 5,
   "id": "1a68faaa",
   "metadata": {},
   "outputs": [
    {
     "name": "stdout",
     "output_type": "stream",
     "text": [
      "i run every time yo...\n"
     ]
    },
    {
     "data": {
      "text/plain": [
       "4"
      ]
     },
     "execution_count": 5,
     "metadata": {},
     "output_type": "execute_result"
    }
   ],
   "source": [
    "fetch_value([1,2,3,4], 3)"
   ]
  },
  {
   "cell_type": "markdown",
   "id": "16e2acd0",
   "metadata": {},
   "source": [
    "### 8: Exception Handling in Network Operations\n",
    "\n",
    "Write a function that attempts to open a URL and read its contents. Use try, except, and finally blocks to handle network-related errors and print an appropriate message."
   ]
  },
  {
   "cell_type": "code",
   "execution_count": 7,
   "id": "83ce9ce9",
   "metadata": {},
   "outputs": [],
   "source": [
    "import requests\n",
    "\n",
    "def read_url(url):\n",
    "    try:\n",
    "        response = requests.get(url)\n",
    "        response.raise_for_status()\n",
    "        return response.text\n",
    "    except requests.RequestException as e:\n",
    "        print(f\"Network error: {e}\")\n",
    "        return None\n",
    "    finally:\n",
    "        print(\"Execution complete.\")"
   ]
  },
  {
   "cell_type": "code",
   "execution_count": 10,
   "id": "00742040",
   "metadata": {},
   "outputs": [
    {
     "name": "stdout",
     "output_type": "stream",
     "text": [
      "Network error: 403 Client Error: Forbidden for url: https://d1aah1uz69878a.cloudfront.net/\n",
      "Execution complete.\n"
     ]
    }
   ],
   "source": [
    "read_url('https://d1aah1uz69878a.cloudfront.net')"
   ]
  },
  {
   "cell_type": "markdown",
   "id": "0d07702d",
   "metadata": {},
   "source": [
    "### 9: Exception Handling in JSON Parsing\n",
    "\n",
    "Write a function that attempts to parse a JSON string. Use try, except, and finally blocks to handle JSONDecodeError if the string is not a valid JSON and print an appropriate message."
   ]
  },
  {
   "cell_type": "code",
   "execution_count": 19,
   "id": "77ca87f0",
   "metadata": {},
   "outputs": [
    {
     "name": "stdout",
     "output_type": "stream",
     "text": [
      "Expecting value: line 1 column 1 (char 0)\n",
      "None\n"
     ]
    }
   ],
   "source": [
    "import json\n",
    "def parse_json(string):\n",
    "    try:\n",
    "        return json.loads(string)\n",
    "    except json.JSONDecodeError as ex:\n",
    "        print(ex)\n",
    "print(parse_json(\"Invalid JSON\")) "
   ]
  },
  {
   "cell_type": "markdown",
   "id": "9a07024d",
   "metadata": {},
   "source": [
    "### 10: Custom Exception Handling\n",
    "\n",
    "Define a custom exception named `NegativeNumberError`. Write a function that raises this exception if a negative number is encountered in a list. Use try, except, and finally blocks to handle the custom exception and print an appropriate message."
   ]
  },
  {
   "cell_type": "code",
   "execution_count": null,
   "id": "16d668c9",
   "metadata": {},
   "outputs": [
    {
     "name": "stdout",
     "output_type": "stream",
     "text": [
      "<class 'super'>\n",
      "Negative number found: -3\n"
     ]
    }
   ],
   "source": [
    "class NegativeNumberError(Exception): \n",
    "    def __init__(self, value): \n",
    "        super().__init__(f\"Negative number found: {value}\") \n",
    "        self.value = value \n",
    "def check_list(lst):\n",
    "    try:\n",
    "        for i in lst:\n",
    "            if i < 0:\n",
    "                raise NegativeNumberError(i)\n",
    "    except NegativeNumberError as ex:\n",
    "        print(ex)\n",
    "check_list([1, 2, -3])"
   ]
  },
  {
   "cell_type": "markdown",
   "id": "e3f6f776",
   "metadata": {},
   "source": [
    "### 11: Exception Handling in Function Calls\n",
    "\n",
    "Write a function that calls another function which may raise an exception. Use try, except, and finally blocks to handle the exception and print an appropriate message."
   ]
  },
  {
   "cell_type": "code",
   "execution_count": 29,
   "id": "c9c946d5",
   "metadata": {},
   "outputs": [],
   "source": [
    "def func1():\n",
    "    raise ValueError(\"this is damnn error\")\n",
    "def func2():\n",
    "    try:\n",
    "        func1()\n",
    "    except ValueError as ex:\n",
    "        print(\"caught error from func1\")\n",
    "    finally:\n",
    "        print(\"i run everytime...\")"
   ]
  },
  {
   "cell_type": "code",
   "execution_count": 30,
   "id": "8a9a90a1",
   "metadata": {},
   "outputs": [
    {
     "name": "stdout",
     "output_type": "stream",
     "text": [
      "caught error from func1\n",
      "i run everytime...\n"
     ]
    }
   ],
   "source": [
    "func2()"
   ]
  },
  {
   "cell_type": "markdown",
   "id": "5f78ec1d",
   "metadata": {},
   "source": [
    "### 12: Exception Handling in Class Methods\n",
    "\n",
    "Define a class with a method that performs a division operation. Use try, except, and finally blocks within the method to handle division by zero and print an appropriate message."
   ]
  },
  {
   "cell_type": "code",
   "execution_count": 36,
   "id": "6e1ee938",
   "metadata": {},
   "outputs": [],
   "source": [
    "class Test:\n",
    "    def __init__(self, value1, value2):\n",
    "        self.value1 = value1\n",
    "        self.value2 = value2\n",
    "    def func(self):\n",
    "        try:\n",
    "            return self.value1 / self.value2\n",
    "        except ZeroDivisionError as ex:\n",
    "            print(ex)\n",
    "        finally:\n",
    "            print(\"nenu amarudni ra\")"
   ]
  },
  {
   "cell_type": "code",
   "execution_count": 37,
   "id": "7145b070",
   "metadata": {},
   "outputs": [
    {
     "name": "stdout",
     "output_type": "stream",
     "text": [
      "division by zero\n",
      "nenu amarudni ra\n"
     ]
    }
   ],
   "source": [
    "test = Test(1,0)\n",
    "test.func()"
   ]
  },
  {
   "cell_type": "markdown",
   "id": "a7d42c64",
   "metadata": {},
   "source": [
    "### 13: Exception Handling in Data Conversion\n",
    "\n",
    "Write a function that takes a list of strings and converts them to integers. Use try, except, and finally blocks to handle ValueError if a string cannot be converted and print an appropriate message."
   ]
  },
  {
   "cell_type": "code",
   "execution_count": 41,
   "id": "2968f818",
   "metadata": {},
   "outputs": [
    {
     "name": "stdout",
     "output_type": "stream",
     "text": [
      "invalid literal for int() with base 10: 'je'\n",
      "nenu amarudni ra...\n"
     ]
    }
   ],
   "source": [
    "def convert_list_int(lst):\n",
    "    new_lst = []\n",
    "    for i in lst:\n",
    "        new_lst.append(int(i))\n",
    "    return new_lst\n",
    "try:\n",
    "    convert_list_int(['je','2'])\n",
    "except ValueError as ex:\n",
    "    print(ex)\n",
    "finally:\n",
    "    print(\"nenu amarudni ra...\")"
   ]
  },
  {
   "cell_type": "markdown",
   "id": "5e72e3e7",
   "metadata": {},
   "source": [
    "### 14: Exception Handling in List Comprehensions\n",
    "\n",
    "Write a function that uses a list comprehension to convert a list of strings to integers. Use try, except, and finally blocks within the list comprehension to handle ValueError and print an appropriate message."
   ]
  },
  {
   "cell_type": "code",
   "execution_count": 42,
   "id": "5c710bcc",
   "metadata": {},
   "outputs": [
    {
     "name": "stdout",
     "output_type": "stream",
     "text": [
      "invalid literal for int() with base 10: 'je'\n",
      "nenu amarudni ra...\n"
     ]
    }
   ],
   "source": [
    "def convert_list_int(lst):\n",
    "    return [int(i) for i in lst]\n",
    "try:\n",
    "    convert_list_int(['je','2'])\n",
    "except ValueError as ex:\n",
    "    print(ex)\n",
    "finally:\n",
    "    print(\"nenu amarudni ra...\")"
   ]
  },
  {
   "cell_type": "markdown",
   "id": "badd7d17",
   "metadata": {},
   "source": [
    "### 15: Exception Handling in File Writing\n",
    "\n",
    "Write a function that attempts to write a list of strings to a file. Use try, except, and finally blocks to handle IOError and ensure the file is properly closed."
   ]
  },
  {
   "cell_type": "code",
   "execution_count": 52,
   "id": "efc0814c",
   "metadata": {},
   "outputs": [],
   "source": [
    "def write_strings_to_file(strings, filename):\n",
    "    try:\n",
    "        file = open(filename, 'w')\n",
    "        for string in strings:\n",
    "            file.write(string + '\\n')\n",
    "    except IOError as e:\n",
    "        print(f\"Error: {e}\")\n",
    "    finally:\n",
    "        try:\n",
    "            file.close()\n",
    "        except NameError:\n",
    "            pass\n",
    "write_strings_to_file(['Hello', 'World'], 'output.txt')"
   ]
  },
  {
   "cell_type": "code",
   "execution_count": null,
   "id": "4be4cc30",
   "metadata": {},
   "outputs": [],
   "source": []
  }
 ],
 "metadata": {
  "kernelspec": {
   "display_name": "pythonPractiveEnv",
   "language": "python",
   "name": "python3"
  },
  "language_info": {
   "codemirror_mode": {
    "name": "ipython",
    "version": 3
   },
   "file_extension": ".py",
   "mimetype": "text/x-python",
   "name": "python",
   "nbconvert_exporter": "python",
   "pygments_lexer": "ipython3",
   "version": "3.10.12"
  }
 },
 "nbformat": 4,
 "nbformat_minor": 5
}
